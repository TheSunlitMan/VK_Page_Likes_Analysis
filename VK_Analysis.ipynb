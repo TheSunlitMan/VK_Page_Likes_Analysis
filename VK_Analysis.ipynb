{
 "cells": [
  {
   "cell_type": "code",
   "execution_count": 1,
   "id": "4e1a8e68",
   "metadata": {},
   "outputs": [
    {
     "name": "stdout",
     "output_type": "stream",
     "text": [
      "Requirement already satisfied: pandas>=1.3.0 in /home/a210/miniconda3/envs/myenv/lib/python3.13/site-packages (from -r requirements.txt (line 1)) (2.3.2)\n",
      "Requirement already satisfied: numpy>=1.20.0 in /home/a210/miniconda3/envs/myenv/lib/python3.13/site-packages (from -r requirements.txt (line 2)) (1.26.4)\n",
      "Requirement already satisfied: matplotlib>=3.3.0 in /home/a210/miniconda3/envs/myenv/lib/python3.13/site-packages (from -r requirements.txt (line 3)) (3.10.6)\n",
      "Requirement already satisfied: seaborn>=0.11.0 in /home/a210/miniconda3/envs/myenv/lib/python3.13/site-packages (from -r requirements.txt (line 4)) (0.13.2)\n",
      "Requirement already satisfied: plotly>=5.0.0 in /home/a210/miniconda3/envs/myenv/lib/python3.13/site-packages (from -r requirements.txt (line 5)) (6.3.0)\n",
      "Requirement already satisfied: jupyter>=1.0.0 in /home/a210/miniconda3/envs/myenv/lib/python3.13/site-packages (from -r requirements.txt (line 6)) (1.1.1)\n",
      "Requirement already satisfied: python-dateutil>=2.8.2 in /home/a210/miniconda3/envs/myenv/lib/python3.13/site-packages (from pandas>=1.3.0->-r requirements.txt (line 1)) (2.9.0.post0)\n",
      "Requirement already satisfied: pytz>=2020.1 in /home/a210/miniconda3/envs/myenv/lib/python3.13/site-packages (from pandas>=1.3.0->-r requirements.txt (line 1)) (2025.2)\n",
      "Requirement already satisfied: tzdata>=2022.7 in /home/a210/miniconda3/envs/myenv/lib/python3.13/site-packages (from pandas>=1.3.0->-r requirements.txt (line 1)) (2025.2)\n",
      "Requirement already satisfied: contourpy>=1.0.1 in /home/a210/miniconda3/envs/myenv/lib/python3.13/site-packages (from matplotlib>=3.3.0->-r requirements.txt (line 3)) (1.3.3)\n",
      "Requirement already satisfied: cycler>=0.10 in /home/a210/miniconda3/envs/myenv/lib/python3.13/site-packages (from matplotlib>=3.3.0->-r requirements.txt (line 3)) (0.12.1)\n",
      "Requirement already satisfied: fonttools>=4.22.0 in /home/a210/miniconda3/envs/myenv/lib/python3.13/site-packages (from matplotlib>=3.3.0->-r requirements.txt (line 3)) (4.59.2)\n",
      "Requirement already satisfied: kiwisolver>=1.3.1 in /home/a210/miniconda3/envs/myenv/lib/python3.13/site-packages (from matplotlib>=3.3.0->-r requirements.txt (line 3)) (1.4.9)\n",
      "Requirement already satisfied: packaging>=20.0 in /home/a210/miniconda3/envs/myenv/lib/python3.13/site-packages (from matplotlib>=3.3.0->-r requirements.txt (line 3)) (25.0)\n",
      "Requirement already satisfied: pillow>=8 in /home/a210/miniconda3/envs/myenv/lib/python3.13/site-packages (from matplotlib>=3.3.0->-r requirements.txt (line 3)) (11.3.0)\n",
      "Requirement already satisfied: pyparsing>=2.3.1 in /home/a210/miniconda3/envs/myenv/lib/python3.13/site-packages (from matplotlib>=3.3.0->-r requirements.txt (line 3)) (3.2.3)\n",
      "Requirement already satisfied: narwhals>=1.15.1 in /home/a210/miniconda3/envs/myenv/lib/python3.13/site-packages (from plotly>=5.0.0->-r requirements.txt (line 5)) (1.31.0)\n",
      "Requirement already satisfied: notebook in /home/a210/miniconda3/envs/myenv/lib/python3.13/site-packages (from jupyter>=1.0.0->-r requirements.txt (line 6)) (7.4.5)\n",
      "Requirement already satisfied: jupyter-console in /home/a210/miniconda3/envs/myenv/lib/python3.13/site-packages (from jupyter>=1.0.0->-r requirements.txt (line 6)) (6.6.3)\n",
      "Requirement already satisfied: nbconvert in /home/a210/miniconda3/envs/myenv/lib/python3.13/site-packages (from jupyter>=1.0.0->-r requirements.txt (line 6)) (7.16.6)\n",
      "Requirement already satisfied: ipykernel in /home/a210/miniconda3/envs/myenv/lib/python3.13/site-packages (from jupyter>=1.0.0->-r requirements.txt (line 6)) (6.30.1)\n",
      "Requirement already satisfied: ipywidgets in /home/a210/miniconda3/envs/myenv/lib/python3.13/site-packages (from jupyter>=1.0.0->-r requirements.txt (line 6)) (8.1.7)\n",
      "Requirement already satisfied: jupyterlab in /home/a210/miniconda3/envs/myenv/lib/python3.13/site-packages (from jupyter>=1.0.0->-r requirements.txt (line 6)) (4.4.7)\n",
      "Requirement already satisfied: six>=1.5 in /home/a210/miniconda3/envs/myenv/lib/python3.13/site-packages (from python-dateutil>=2.8.2->pandas>=1.3.0->-r requirements.txt (line 1)) (1.17.0)\n",
      "Requirement already satisfied: comm>=0.1.1 in /home/a210/miniconda3/envs/myenv/lib/python3.13/site-packages (from ipykernel->jupyter>=1.0.0->-r requirements.txt (line 6)) (0.2.3)\n",
      "Requirement already satisfied: debugpy>=1.6.5 in /home/a210/miniconda3/envs/myenv/lib/python3.13/site-packages (from ipykernel->jupyter>=1.0.0->-r requirements.txt (line 6)) (1.8.16)\n",
      "Requirement already satisfied: ipython>=7.23.1 in /home/a210/miniconda3/envs/myenv/lib/python3.13/site-packages (from ipykernel->jupyter>=1.0.0->-r requirements.txt (line 6)) (9.5.0)\n",
      "Requirement already satisfied: jupyter-client>=8.0.0 in /home/a210/miniconda3/envs/myenv/lib/python3.13/site-packages (from ipykernel->jupyter>=1.0.0->-r requirements.txt (line 6)) (8.6.3)\n",
      "Requirement already satisfied: jupyter-core!=5.0.*,>=4.12 in /home/a210/miniconda3/envs/myenv/lib/python3.13/site-packages (from ipykernel->jupyter>=1.0.0->-r requirements.txt (line 6)) (5.8.1)\n",
      "Requirement already satisfied: matplotlib-inline>=0.1 in /home/a210/miniconda3/envs/myenv/lib/python3.13/site-packages (from ipykernel->jupyter>=1.0.0->-r requirements.txt (line 6)) (0.1.7)\n",
      "Requirement already satisfied: nest-asyncio>=1.4 in /home/a210/miniconda3/envs/myenv/lib/python3.13/site-packages (from ipykernel->jupyter>=1.0.0->-r requirements.txt (line 6)) (1.6.0)\n",
      "Requirement already satisfied: psutil>=5.7 in /home/a210/miniconda3/envs/myenv/lib/python3.13/site-packages (from ipykernel->jupyter>=1.0.0->-r requirements.txt (line 6)) (7.0.0)\n",
      "Requirement already satisfied: pyzmq>=25 in /home/a210/miniconda3/envs/myenv/lib/python3.13/site-packages (from ipykernel->jupyter>=1.0.0->-r requirements.txt (line 6)) (26.2.0)\n",
      "Requirement already satisfied: tornado>=6.2 in /home/a210/miniconda3/envs/myenv/lib/python3.13/site-packages (from ipykernel->jupyter>=1.0.0->-r requirements.txt (line 6)) (6.5.1)\n",
      "Requirement already satisfied: traitlets>=5.4.0 in /home/a210/miniconda3/envs/myenv/lib/python3.13/site-packages (from ipykernel->jupyter>=1.0.0->-r requirements.txt (line 6)) (5.14.3)\n",
      "Requirement already satisfied: decorator in /home/a210/miniconda3/envs/myenv/lib/python3.13/site-packages (from ipython>=7.23.1->ipykernel->jupyter>=1.0.0->-r requirements.txt (line 6)) (5.2.1)\n",
      "Requirement already satisfied: ipython-pygments-lexers in /home/a210/miniconda3/envs/myenv/lib/python3.13/site-packages (from ipython>=7.23.1->ipykernel->jupyter>=1.0.0->-r requirements.txt (line 6)) (1.1.1)\n",
      "Requirement already satisfied: jedi>=0.16 in /home/a210/miniconda3/envs/myenv/lib/python3.13/site-packages (from ipython>=7.23.1->ipykernel->jupyter>=1.0.0->-r requirements.txt (line 6)) (0.19.2)\n",
      "Requirement already satisfied: pexpect>4.3 in /home/a210/miniconda3/envs/myenv/lib/python3.13/site-packages (from ipython>=7.23.1->ipykernel->jupyter>=1.0.0->-r requirements.txt (line 6)) (4.9.0)\n",
      "Requirement already satisfied: prompt_toolkit<3.1.0,>=3.0.41 in /home/a210/miniconda3/envs/myenv/lib/python3.13/site-packages (from ipython>=7.23.1->ipykernel->jupyter>=1.0.0->-r requirements.txt (line 6)) (3.0.52)\n",
      "Requirement already satisfied: pygments>=2.4.0 in /home/a210/miniconda3/envs/myenv/lib/python3.13/site-packages (from ipython>=7.23.1->ipykernel->jupyter>=1.0.0->-r requirements.txt (line 6)) (2.19.2)\n",
      "Requirement already satisfied: stack_data in /home/a210/miniconda3/envs/myenv/lib/python3.13/site-packages (from ipython>=7.23.1->ipykernel->jupyter>=1.0.0->-r requirements.txt (line 6)) (0.6.3)\n",
      "Requirement already satisfied: wcwidth in /home/a210/miniconda3/envs/myenv/lib/python3.13/site-packages (from prompt_toolkit<3.1.0,>=3.0.41->ipython>=7.23.1->ipykernel->jupyter>=1.0.0->-r requirements.txt (line 6)) (0.2.13)\n",
      "Requirement already satisfied: parso<0.9.0,>=0.8.4 in /home/a210/miniconda3/envs/myenv/lib/python3.13/site-packages (from jedi>=0.16->ipython>=7.23.1->ipykernel->jupyter>=1.0.0->-r requirements.txt (line 6)) (0.8.5)\n",
      "Requirement already satisfied: platformdirs>=2.5 in /home/a210/miniconda3/envs/myenv/lib/python3.13/site-packages (from jupyter-core!=5.0.*,>=4.12->ipykernel->jupyter>=1.0.0->-r requirements.txt (line 6)) (4.4.0)\n",
      "Requirement already satisfied: ptyprocess>=0.5 in /home/a210/miniconda3/envs/myenv/lib/python3.13/site-packages (from pexpect>4.3->ipython>=7.23.1->ipykernel->jupyter>=1.0.0->-r requirements.txt (line 6)) (0.7.0)\n",
      "Requirement already satisfied: widgetsnbextension~=4.0.14 in /home/a210/miniconda3/envs/myenv/lib/python3.13/site-packages (from ipywidgets->jupyter>=1.0.0->-r requirements.txt (line 6)) (4.0.14)\n",
      "Requirement already satisfied: jupyterlab_widgets~=3.0.15 in /home/a210/miniconda3/envs/myenv/lib/python3.13/site-packages (from ipywidgets->jupyter>=1.0.0->-r requirements.txt (line 6)) (3.0.15)\n",
      "Requirement already satisfied: async-lru>=1.0.0 in /home/a210/miniconda3/envs/myenv/lib/python3.13/site-packages (from jupyterlab->jupyter>=1.0.0->-r requirements.txt (line 6)) (2.0.5)\n",
      "Requirement already satisfied: httpx<1,>=0.25.0 in /home/a210/miniconda3/envs/myenv/lib/python3.13/site-packages (from jupyterlab->jupyter>=1.0.0->-r requirements.txt (line 6)) (0.28.1)\n",
      "Requirement already satisfied: jinja2>=3.0.3 in /home/a210/miniconda3/envs/myenv/lib/python3.13/site-packages (from jupyterlab->jupyter>=1.0.0->-r requirements.txt (line 6)) (3.1.6)\n",
      "Requirement already satisfied: jupyter-lsp>=2.0.0 in /home/a210/miniconda3/envs/myenv/lib/python3.13/site-packages (from jupyterlab->jupyter>=1.0.0->-r requirements.txt (line 6)) (2.3.0)\n",
      "Requirement already satisfied: jupyter-server<3,>=2.4.0 in /home/a210/miniconda3/envs/myenv/lib/python3.13/site-packages (from jupyterlab->jupyter>=1.0.0->-r requirements.txt (line 6)) (2.17.0)\n",
      "Requirement already satisfied: jupyterlab-server<3,>=2.27.1 in /home/a210/miniconda3/envs/myenv/lib/python3.13/site-packages (from jupyterlab->jupyter>=1.0.0->-r requirements.txt (line 6)) (2.27.3)\n",
      "Requirement already satisfied: notebook-shim>=0.2 in /home/a210/miniconda3/envs/myenv/lib/python3.13/site-packages (from jupyterlab->jupyter>=1.0.0->-r requirements.txt (line 6)) (0.2.4)\n",
      "Requirement already satisfied: setuptools>=41.1.0 in /home/a210/miniconda3/envs/myenv/lib/python3.13/site-packages (from jupyterlab->jupyter>=1.0.0->-r requirements.txt (line 6)) (72.1.0)\n",
      "Requirement already satisfied: anyio in /home/a210/miniconda3/envs/myenv/lib/python3.13/site-packages (from httpx<1,>=0.25.0->jupyterlab->jupyter>=1.0.0->-r requirements.txt (line 6)) (4.10.0)\n",
      "Requirement already satisfied: certifi in /home/a210/miniconda3/envs/myenv/lib/python3.13/site-packages (from httpx<1,>=0.25.0->jupyterlab->jupyter>=1.0.0->-r requirements.txt (line 6)) (2025.8.3)\n",
      "Requirement already satisfied: httpcore==1.* in /home/a210/miniconda3/envs/myenv/lib/python3.13/site-packages (from httpx<1,>=0.25.0->jupyterlab->jupyter>=1.0.0->-r requirements.txt (line 6)) (1.0.9)\n",
      "Requirement already satisfied: idna in /home/a210/miniconda3/envs/myenv/lib/python3.13/site-packages (from httpx<1,>=0.25.0->jupyterlab->jupyter>=1.0.0->-r requirements.txt (line 6)) (3.10)\n",
      "Requirement already satisfied: h11>=0.16 in /home/a210/miniconda3/envs/myenv/lib/python3.13/site-packages (from httpcore==1.*->httpx<1,>=0.25.0->jupyterlab->jupyter>=1.0.0->-r requirements.txt (line 6)) (0.16.0)\n",
      "Requirement already satisfied: argon2-cffi>=21.1 in /home/a210/miniconda3/envs/myenv/lib/python3.13/site-packages (from jupyter-server<3,>=2.4.0->jupyterlab->jupyter>=1.0.0->-r requirements.txt (line 6)) (25.1.0)\n",
      "Requirement already satisfied: jupyter-events>=0.11.0 in /home/a210/miniconda3/envs/myenv/lib/python3.13/site-packages (from jupyter-server<3,>=2.4.0->jupyterlab->jupyter>=1.0.0->-r requirements.txt (line 6)) (0.12.0)\n",
      "Requirement already satisfied: jupyter-server-terminals>=0.4.4 in /home/a210/miniconda3/envs/myenv/lib/python3.13/site-packages (from jupyter-server<3,>=2.4.0->jupyterlab->jupyter>=1.0.0->-r requirements.txt (line 6)) (0.5.3)\n",
      "Requirement already satisfied: nbformat>=5.3.0 in /home/a210/miniconda3/envs/myenv/lib/python3.13/site-packages (from jupyter-server<3,>=2.4.0->jupyterlab->jupyter>=1.0.0->-r requirements.txt (line 6)) (5.10.4)\n",
      "Requirement already satisfied: prometheus-client>=0.9 in /home/a210/miniconda3/envs/myenv/lib/python3.13/site-packages (from jupyter-server<3,>=2.4.0->jupyterlab->jupyter>=1.0.0->-r requirements.txt (line 6)) (0.22.1)\n",
      "Requirement already satisfied: send2trash>=1.8.2 in /home/a210/miniconda3/envs/myenv/lib/python3.13/site-packages (from jupyter-server<3,>=2.4.0->jupyterlab->jupyter>=1.0.0->-r requirements.txt (line 6)) (1.8.3)\n",
      "Requirement already satisfied: terminado>=0.8.3 in /home/a210/miniconda3/envs/myenv/lib/python3.13/site-packages (from jupyter-server<3,>=2.4.0->jupyterlab->jupyter>=1.0.0->-r requirements.txt (line 6)) (0.18.1)\n",
      "Requirement already satisfied: websocket-client>=1.7 in /home/a210/miniconda3/envs/myenv/lib/python3.13/site-packages (from jupyter-server<3,>=2.4.0->jupyterlab->jupyter>=1.0.0->-r requirements.txt (line 6)) (1.8.0)\n",
      "Requirement already satisfied: babel>=2.10 in /home/a210/miniconda3/envs/myenv/lib/python3.13/site-packages (from jupyterlab-server<3,>=2.27.1->jupyterlab->jupyter>=1.0.0->-r requirements.txt (line 6)) (2.17.0)\n",
      "Requirement already satisfied: json5>=0.9.0 in /home/a210/miniconda3/envs/myenv/lib/python3.13/site-packages (from jupyterlab-server<3,>=2.27.1->jupyterlab->jupyter>=1.0.0->-r requirements.txt (line 6)) (0.12.1)\n",
      "Requirement already satisfied: jsonschema>=4.18.0 in /home/a210/miniconda3/envs/myenv/lib/python3.13/site-packages (from jupyterlab-server<3,>=2.27.1->jupyterlab->jupyter>=1.0.0->-r requirements.txt (line 6)) (4.25.1)\n",
      "Requirement already satisfied: requests>=2.31 in /home/a210/miniconda3/envs/myenv/lib/python3.13/site-packages (from jupyterlab-server<3,>=2.27.1->jupyterlab->jupyter>=1.0.0->-r requirements.txt (line 6)) (2.32.5)\n",
      "Requirement already satisfied: sniffio>=1.1 in /home/a210/miniconda3/envs/myenv/lib/python3.13/site-packages (from anyio->httpx<1,>=0.25.0->jupyterlab->jupyter>=1.0.0->-r requirements.txt (line 6)) (1.3.1)\n",
      "Requirement already satisfied: argon2-cffi-bindings in /home/a210/miniconda3/envs/myenv/lib/python3.13/site-packages (from argon2-cffi>=21.1->jupyter-server<3,>=2.4.0->jupyterlab->jupyter>=1.0.0->-r requirements.txt (line 6)) (25.1.0)\n",
      "Requirement already satisfied: MarkupSafe>=2.0 in /home/a210/miniconda3/envs/myenv/lib/python3.13/site-packages (from jinja2>=3.0.3->jupyterlab->jupyter>=1.0.0->-r requirements.txt (line 6)) (3.0.2)\n",
      "Requirement already satisfied: attrs>=22.2.0 in /home/a210/miniconda3/envs/myenv/lib/python3.13/site-packages (from jsonschema>=4.18.0->jupyterlab-server<3,>=2.27.1->jupyterlab->jupyter>=1.0.0->-r requirements.txt (line 6)) (25.3.0)\n",
      "Requirement already satisfied: jsonschema-specifications>=2023.03.6 in /home/a210/miniconda3/envs/myenv/lib/python3.13/site-packages (from jsonschema>=4.18.0->jupyterlab-server<3,>=2.27.1->jupyterlab->jupyter>=1.0.0->-r requirements.txt (line 6)) (2025.9.1)\n",
      "Requirement already satisfied: referencing>=0.28.4 in /home/a210/miniconda3/envs/myenv/lib/python3.13/site-packages (from jsonschema>=4.18.0->jupyterlab-server<3,>=2.27.1->jupyterlab->jupyter>=1.0.0->-r requirements.txt (line 6)) (0.36.2)\n",
      "Requirement already satisfied: rpds-py>=0.7.1 in /home/a210/miniconda3/envs/myenv/lib/python3.13/site-packages (from jsonschema>=4.18.0->jupyterlab-server<3,>=2.27.1->jupyterlab->jupyter>=1.0.0->-r requirements.txt (line 6)) (0.27.1)\n",
      "Requirement already satisfied: python-json-logger>=2.0.4 in /home/a210/miniconda3/envs/myenv/lib/python3.13/site-packages (from jupyter-events>=0.11.0->jupyter-server<3,>=2.4.0->jupyterlab->jupyter>=1.0.0->-r requirements.txt (line 6)) (3.3.0)\n",
      "Requirement already satisfied: pyyaml>=5.3 in /home/a210/miniconda3/envs/myenv/lib/python3.13/site-packages (from jupyter-events>=0.11.0->jupyter-server<3,>=2.4.0->jupyterlab->jupyter>=1.0.0->-r requirements.txt (line 6)) (6.0.2)\n",
      "Requirement already satisfied: rfc3339-validator in /home/a210/miniconda3/envs/myenv/lib/python3.13/site-packages (from jupyter-events>=0.11.0->jupyter-server<3,>=2.4.0->jupyterlab->jupyter>=1.0.0->-r requirements.txt (line 6)) (0.1.4)\n",
      "Requirement already satisfied: rfc3986-validator>=0.1.1 in /home/a210/miniconda3/envs/myenv/lib/python3.13/site-packages (from jupyter-events>=0.11.0->jupyter-server<3,>=2.4.0->jupyterlab->jupyter>=1.0.0->-r requirements.txt (line 6)) (0.1.1)\n",
      "Requirement already satisfied: fqdn in /home/a210/miniconda3/envs/myenv/lib/python3.13/site-packages (from jsonschema[format-nongpl]>=4.18.0->jupyter-events>=0.11.0->jupyter-server<3,>=2.4.0->jupyterlab->jupyter>=1.0.0->-r requirements.txt (line 6)) (1.5.1)\n",
      "Requirement already satisfied: isoduration in /home/a210/miniconda3/envs/myenv/lib/python3.13/site-packages (from jsonschema[format-nongpl]>=4.18.0->jupyter-events>=0.11.0->jupyter-server<3,>=2.4.0->jupyterlab->jupyter>=1.0.0->-r requirements.txt (line 6)) (20.11.0)\n",
      "Requirement already satisfied: jsonpointer>1.13 in /home/a210/miniconda3/envs/myenv/lib/python3.13/site-packages (from jsonschema[format-nongpl]>=4.18.0->jupyter-events>=0.11.0->jupyter-server<3,>=2.4.0->jupyterlab->jupyter>=1.0.0->-r requirements.txt (line 6)) (3.0.0)\n",
      "Requirement already satisfied: rfc3987-syntax>=1.1.0 in /home/a210/miniconda3/envs/myenv/lib/python3.13/site-packages (from jsonschema[format-nongpl]>=4.18.0->jupyter-events>=0.11.0->jupyter-server<3,>=2.4.0->jupyterlab->jupyter>=1.0.0->-r requirements.txt (line 6)) (1.1.0)\n",
      "Requirement already satisfied: uri-template in /home/a210/miniconda3/envs/myenv/lib/python3.13/site-packages (from jsonschema[format-nongpl]>=4.18.0->jupyter-events>=0.11.0->jupyter-server<3,>=2.4.0->jupyterlab->jupyter>=1.0.0->-r requirements.txt (line 6)) (1.3.0)\n",
      "Requirement already satisfied: webcolors>=24.6.0 in /home/a210/miniconda3/envs/myenv/lib/python3.13/site-packages (from jsonschema[format-nongpl]>=4.18.0->jupyter-events>=0.11.0->jupyter-server<3,>=2.4.0->jupyterlab->jupyter>=1.0.0->-r requirements.txt (line 6)) (24.11.1)\n",
      "Requirement already satisfied: beautifulsoup4 in /home/a210/miniconda3/envs/myenv/lib/python3.13/site-packages (from nbconvert->jupyter>=1.0.0->-r requirements.txt (line 6)) (4.13.5)\n",
      "Requirement already satisfied: bleach!=5.0.0 in /home/a210/miniconda3/envs/myenv/lib/python3.13/site-packages (from bleach[css]!=5.0.0->nbconvert->jupyter>=1.0.0->-r requirements.txt (line 6)) (6.2.0)\n",
      "Requirement already satisfied: defusedxml in /home/a210/miniconda3/envs/myenv/lib/python3.13/site-packages (from nbconvert->jupyter>=1.0.0->-r requirements.txt (line 6)) (0.7.1)\n",
      "Requirement already satisfied: jupyterlab-pygments in /home/a210/miniconda3/envs/myenv/lib/python3.13/site-packages (from nbconvert->jupyter>=1.0.0->-r requirements.txt (line 6)) (0.3.0)\n",
      "Requirement already satisfied: mistune<4,>=2.0.3 in /home/a210/miniconda3/envs/myenv/lib/python3.13/site-packages (from nbconvert->jupyter>=1.0.0->-r requirements.txt (line 6)) (3.1.4)\n",
      "Requirement already satisfied: nbclient>=0.5.0 in /home/a210/miniconda3/envs/myenv/lib/python3.13/site-packages (from nbconvert->jupyter>=1.0.0->-r requirements.txt (line 6)) (0.10.2)\n",
      "Requirement already satisfied: pandocfilters>=1.4.1 in /home/a210/miniconda3/envs/myenv/lib/python3.13/site-packages (from nbconvert->jupyter>=1.0.0->-r requirements.txt (line 6)) (1.5.1)\n",
      "Requirement already satisfied: webencodings in /home/a210/miniconda3/envs/myenv/lib/python3.13/site-packages (from bleach!=5.0.0->bleach[css]!=5.0.0->nbconvert->jupyter>=1.0.0->-r requirements.txt (line 6)) (0.5.1)\n",
      "Requirement already satisfied: tinycss2<1.5,>=1.1.0 in /home/a210/miniconda3/envs/myenv/lib/python3.13/site-packages (from bleach[css]!=5.0.0->nbconvert->jupyter>=1.0.0->-r requirements.txt (line 6)) (1.4.0)\n",
      "Requirement already satisfied: fastjsonschema>=2.15 in /home/a210/miniconda3/envs/myenv/lib/python3.13/site-packages (from nbformat>=5.3.0->jupyter-server<3,>=2.4.0->jupyterlab->jupyter>=1.0.0->-r requirements.txt (line 6)) (2.21.2)\n",
      "Requirement already satisfied: charset_normalizer<4,>=2 in /home/a210/miniconda3/envs/myenv/lib/python3.13/site-packages (from requests>=2.31->jupyterlab-server<3,>=2.27.1->jupyterlab->jupyter>=1.0.0->-r requirements.txt (line 6)) (3.4.3)\n",
      "Requirement already satisfied: urllib3<3,>=1.21.1 in /home/a210/miniconda3/envs/myenv/lib/python3.13/site-packages (from requests>=2.31->jupyterlab-server<3,>=2.27.1->jupyterlab->jupyter>=1.0.0->-r requirements.txt (line 6)) (2.5.0)\n",
      "Requirement already satisfied: lark>=1.2.2 in /home/a210/miniconda3/envs/myenv/lib/python3.13/site-packages (from rfc3987-syntax>=1.1.0->jsonschema[format-nongpl]>=4.18.0->jupyter-events>=0.11.0->jupyter-server<3,>=2.4.0->jupyterlab->jupyter>=1.0.0->-r requirements.txt (line 6)) (1.2.2)\n",
      "Requirement already satisfied: cffi>=1.0.1 in /home/a210/miniconda3/envs/myenv/lib/python3.13/site-packages (from argon2-cffi-bindings->argon2-cffi>=21.1->jupyter-server<3,>=2.4.0->jupyterlab->jupyter>=1.0.0->-r requirements.txt (line 6)) (2.0.0)\n",
      "Requirement already satisfied: pycparser in /home/a210/miniconda3/envs/myenv/lib/python3.13/site-packages (from cffi>=1.0.1->argon2-cffi-bindings->argon2-cffi>=21.1->jupyter-server<3,>=2.4.0->jupyterlab->jupyter>=1.0.0->-r requirements.txt (line 6)) (2.23)\n",
      "Requirement already satisfied: soupsieve>1.2 in /home/a210/miniconda3/envs/myenv/lib/python3.13/site-packages (from beautifulsoup4->nbconvert->jupyter>=1.0.0->-r requirements.txt (line 6)) (2.8)\n",
      "Requirement already satisfied: typing-extensions>=4.0.0 in /home/a210/miniconda3/envs/myenv/lib/python3.13/site-packages (from beautifulsoup4->nbconvert->jupyter>=1.0.0->-r requirements.txt (line 6)) (4.15.0)\n",
      "Requirement already satisfied: arrow>=0.15.0 in /home/a210/miniconda3/envs/myenv/lib/python3.13/site-packages (from isoduration->jsonschema[format-nongpl]>=4.18.0->jupyter-events>=0.11.0->jupyter-server<3,>=2.4.0->jupyterlab->jupyter>=1.0.0->-r requirements.txt (line 6)) (1.3.0)\n",
      "Requirement already satisfied: types-python-dateutil>=2.8.10 in /home/a210/miniconda3/envs/myenv/lib/python3.13/site-packages (from arrow>=0.15.0->isoduration->jsonschema[format-nongpl]>=4.18.0->jupyter-events>=0.11.0->jupyter-server<3,>=2.4.0->jupyterlab->jupyter>=1.0.0->-r requirements.txt (line 6)) (2.9.0.20250822)\n",
      "Requirement already satisfied: executing>=1.2.0 in /home/a210/miniconda3/envs/myenv/lib/python3.13/site-packages (from stack_data->ipython>=7.23.1->ipykernel->jupyter>=1.0.0->-r requirements.txt (line 6)) (2.2.1)\n",
      "Requirement already satisfied: asttokens>=2.1.0 in /home/a210/miniconda3/envs/myenv/lib/python3.13/site-packages (from stack_data->ipython>=7.23.1->ipykernel->jupyter>=1.0.0->-r requirements.txt (line 6)) (3.0.0)\n",
      "Requirement already satisfied: pure_eval in /home/a210/miniconda3/envs/myenv/lib/python3.13/site-packages (from stack_data->ipython>=7.23.1->ipykernel->jupyter>=1.0.0->-r requirements.txt (line 6)) (0.2.3)\n"
     ]
    }
   ],
   "source": [
    "# Установка необходимых зависимостей\n",
    "!pip install -r requirements.txt"
   ]
  },
  {
   "cell_type": "markdown",
   "id": "d12264f5",
   "metadata": {},
   "source": [
    "# Импорт библиотек"
   ]
  },
  {
   "cell_type": "code",
   "execution_count": 2,
   "id": "063b5f3d",
   "metadata": {},
   "outputs": [],
   "source": [
    "import pandas as pd\n",
    "import numpy as np\n",
    "import matplotlib.pyplot as plt\n",
    "import seaborn as sns\n",
    "import plotly.express as px"
   ]
  },
  {
   "cell_type": "markdown",
   "id": "65015e3e",
   "metadata": {},
   "source": [
    "# Получение данных"
   ]
  },
  {
   "cell_type": "markdown",
   "id": "261d649c",
   "metadata": {},
   "source": [
    "Для пролучения данных для анализа зашёл на свою страницу ВК, перешёл в раздел \"Статистика\" и выгрузил информацию в формате CSV."
   ]
  },
  {
   "cell_type": "code",
   "execution_count": 5,
   "id": "4dd1c219",
   "metadata": {},
   "outputs": [],
   "source": [
    "data = pd.read_csv(\"data/vk_user.csv\")"
   ]
  },
  {
   "cell_type": "markdown",
   "id": "fcb0911e",
   "metadata": {},
   "source": [
    "# Анализ структуры датафрейма"
   ]
  },
  {
   "cell_type": "markdown",
   "id": "1fffefe2",
   "metadata": {},
   "source": [
    "### Обзор первых пяти и последних пяти строчек таблицы"
   ]
  },
  {
   "cell_type": "code",
   "execution_count": null,
   "id": "41f6ac58",
   "metadata": {},
   "outputs": [
    {
     "data": {
      "text/html": [
       "<div>\n",
       "<style scoped>\n",
       "    .dataframe tbody tr th:only-of-type {\n",
       "        vertical-align: middle;\n",
       "    }\n",
       "\n",
       "    .dataframe tbody tr th {\n",
       "        vertical-align: top;\n",
       "    }\n",
       "\n",
       "    .dataframe thead th {\n",
       "        text-align: right;\n",
       "    }\n",
       "</style>\n",
       "<table border=\"1\" class=\"dataframe\">\n",
       "  <thead>\n",
       "    <tr style=\"text-align: right;\">\n",
       "      <th></th>\n",
       "      <th>Дата</th>\n",
       "      <th>Критерий</th>\n",
       "      <th>Парам. №1</th>\n",
       "      <th>Парам. №2</th>\n",
       "      <th>Значение</th>\n",
       "    </tr>\n",
       "  </thead>\n",
       "  <tbody>\n",
       "    <tr>\n",
       "      <th>0</th>\n",
       "      <td>08.08.2025</td>\n",
       "      <td>views</td>\n",
       "      <td>NaN</td>\n",
       "      <td>NaN</td>\n",
       "      <td>0</td>\n",
       "    </tr>\n",
       "    <tr>\n",
       "      <th>1</th>\n",
       "      <td>08.08.2025</td>\n",
       "      <td>visitors</td>\n",
       "      <td>NaN</td>\n",
       "      <td>NaN</td>\n",
       "      <td>0</td>\n",
       "    </tr>\n",
       "    <tr>\n",
       "      <th>2</th>\n",
       "      <td>08.08.2025</td>\n",
       "      <td>feedback</td>\n",
       "      <td>Нравится</td>\n",
       "      <td>NaN</td>\n",
       "      <td>2</td>\n",
       "    </tr>\n",
       "    <tr>\n",
       "      <th>3</th>\n",
       "      <td>08.08.2025</td>\n",
       "      <td>members</td>\n",
       "      <td>Новые подписчики</td>\n",
       "      <td>NaN</td>\n",
       "      <td>1</td>\n",
       "    </tr>\n",
       "    <tr>\n",
       "      <th>4</th>\n",
       "      <td>04.07.2025</td>\n",
       "      <td>views</td>\n",
       "      <td>NaN</td>\n",
       "      <td>NaN</td>\n",
       "      <td>0</td>\n",
       "    </tr>\n",
       "    <tr>\n",
       "      <th>...</th>\n",
       "      <td>...</td>\n",
       "      <td>...</td>\n",
       "      <td>...</td>\n",
       "      <td>...</td>\n",
       "      <td>...</td>\n",
       "    </tr>\n",
       "    <tr>\n",
       "      <th>2218</th>\n",
       "      <td>04.05.2012</td>\n",
       "      <td>visitors</td>\n",
       "      <td>NaN</td>\n",
       "      <td>NaN</td>\n",
       "      <td>0</td>\n",
       "    </tr>\n",
       "    <tr>\n",
       "      <th>2219</th>\n",
       "      <td>04.05.2012</td>\n",
       "      <td>members</td>\n",
       "      <td>Новые подписчики</td>\n",
       "      <td>NaN</td>\n",
       "      <td>1</td>\n",
       "    </tr>\n",
       "    <tr>\n",
       "      <th>2220</th>\n",
       "      <td>25.04.2012</td>\n",
       "      <td>views</td>\n",
       "      <td>NaN</td>\n",
       "      <td>NaN</td>\n",
       "      <td>0</td>\n",
       "    </tr>\n",
       "    <tr>\n",
       "      <th>2221</th>\n",
       "      <td>25.04.2012</td>\n",
       "      <td>visitors</td>\n",
       "      <td>NaN</td>\n",
       "      <td>NaN</td>\n",
       "      <td>0</td>\n",
       "    </tr>\n",
       "    <tr>\n",
       "      <th>2222</th>\n",
       "      <td>25.04.2012</td>\n",
       "      <td>feedback</td>\n",
       "      <td>Нравится</td>\n",
       "      <td>NaN</td>\n",
       "      <td>1</td>\n",
       "    </tr>\n",
       "  </tbody>\n",
       "</table>\n",
       "<p>2223 rows × 5 columns</p>\n",
       "</div>"
      ],
      "text/plain": [
       "            Дата  Критерий         Парам. №1  Парам. №2  Значение\n",
       "0     08.08.2025     views               NaN        NaN         0\n",
       "1     08.08.2025  visitors               NaN        NaN         0\n",
       "2     08.08.2025  feedback          Нравится        NaN         2\n",
       "3     08.08.2025   members  Новые подписчики        NaN         1\n",
       "4     04.07.2025     views               NaN        NaN         0\n",
       "...          ...       ...               ...        ...       ...\n",
       "2218  04.05.2012  visitors               NaN        NaN         0\n",
       "2219  04.05.2012   members  Новые подписчики        NaN         1\n",
       "2220  25.04.2012     views               NaN        NaN         0\n",
       "2221  25.04.2012  visitors               NaN        NaN         0\n",
       "2222  25.04.2012  feedback          Нравится        NaN         1\n",
       "\n",
       "[2223 rows x 5 columns]"
      ]
     },
     "execution_count": 4,
     "metadata": {},
     "output_type": "execute_result"
    }
   ],
   "source": [
    "data"
   ]
  },
  {
   "cell_type": "markdown",
   "id": "27e43863",
   "metadata": {},
   "source": [
    "Таблица имеет столбцы: \"Дата\", \"Критерий\", \"Парам.№1\", \"Парам.№2\" и \"Значение\".\n",
    "\n",
    "Из беглого осмотра видно несколько ограничений данных:\n",
    "* Нет времени публикации - только даты.\n",
    "\n",
    "* Нет информации о постах - нельзя определить промежутки между публикациями.\n",
    "\n",
    "* Данные агрегированы по дням - нельзя выделить время суток.\n",
    "\n",
    "\n",
    "Попробуем извлечь полезную информацию из имеющихся данных.\n"
   ]
  },
  {
   "cell_type": "markdown",
   "id": "d5760291",
   "metadata": {},
   "source": [
    "### Посмотрим информацию о типах данных и пропущенных значениях"
   ]
  },
  {
   "cell_type": "code",
   "execution_count": null,
   "id": "1cc741ff",
   "metadata": {},
   "outputs": [
    {
     "name": "stdout",
     "output_type": "stream",
     "text": [
      "<class 'pandas.core.frame.DataFrame'>\n",
      "RangeIndex: 2223 entries, 0 to 2222\n",
      "Data columns (total 5 columns):\n",
      " #   Column     Non-Null Count  Dtype  \n",
      "---  ------     --------------  -----  \n",
      " 0   Дата       2223 non-null   object \n",
      " 1   Критерий   2223 non-null   object \n",
      " 2   Парам. №1  743 non-null    object \n",
      " 3   Парам. №2  0 non-null      float64\n",
      " 4   Значение   2223 non-null   int64  \n",
      "dtypes: float64(1), int64(1), object(3)\n",
      "memory usage: 87.0+ KB\n"
     ]
    }
   ],
   "source": [
    "data.info()"
   ]
  },
  {
   "cell_type": "markdown",
   "id": "5b82884e",
   "metadata": {},
   "source": [
    "Видно, что столбец с датой имеет не верный формат $-$ необходимо преобразовать. \n",
    "Столбец \"Парам.№2\" полностью состоит из пропусков $-$ удалим его."
   ]
  },
  {
   "cell_type": "code",
   "execution_count": null,
   "id": "c01d8806",
   "metadata": {},
   "outputs": [
    {
     "data": {
      "text/html": [
       "<div>\n",
       "<style scoped>\n",
       "    .dataframe tbody tr th:only-of-type {\n",
       "        vertical-align: middle;\n",
       "    }\n",
       "\n",
       "    .dataframe tbody tr th {\n",
       "        vertical-align: top;\n",
       "    }\n",
       "\n",
       "    .dataframe thead th {\n",
       "        text-align: right;\n",
       "    }\n",
       "</style>\n",
       "<table border=\"1\" class=\"dataframe\">\n",
       "  <thead>\n",
       "    <tr style=\"text-align: right;\">\n",
       "      <th></th>\n",
       "      <th>Дата</th>\n",
       "      <th>Критерий</th>\n",
       "      <th>Парам. №1</th>\n",
       "      <th>Парам. №2</th>\n",
       "      <th>Значение</th>\n",
       "    </tr>\n",
       "  </thead>\n",
       "  <tbody>\n",
       "    <tr>\n",
       "      <th>0</th>\n",
       "      <td>2025-08-08</td>\n",
       "      <td>views</td>\n",
       "      <td>NaN</td>\n",
       "      <td>NaN</td>\n",
       "      <td>0</td>\n",
       "    </tr>\n",
       "    <tr>\n",
       "      <th>1</th>\n",
       "      <td>2025-08-08</td>\n",
       "      <td>visitors</td>\n",
       "      <td>NaN</td>\n",
       "      <td>NaN</td>\n",
       "      <td>0</td>\n",
       "    </tr>\n",
       "    <tr>\n",
       "      <th>2</th>\n",
       "      <td>2025-08-08</td>\n",
       "      <td>feedback</td>\n",
       "      <td>Нравится</td>\n",
       "      <td>NaN</td>\n",
       "      <td>2</td>\n",
       "    </tr>\n",
       "    <tr>\n",
       "      <th>3</th>\n",
       "      <td>2025-08-08</td>\n",
       "      <td>members</td>\n",
       "      <td>Новые подписчики</td>\n",
       "      <td>NaN</td>\n",
       "      <td>1</td>\n",
       "    </tr>\n",
       "    <tr>\n",
       "      <th>4</th>\n",
       "      <td>2025-07-04</td>\n",
       "      <td>views</td>\n",
       "      <td>NaN</td>\n",
       "      <td>NaN</td>\n",
       "      <td>0</td>\n",
       "    </tr>\n",
       "    <tr>\n",
       "      <th>...</th>\n",
       "      <td>...</td>\n",
       "      <td>...</td>\n",
       "      <td>...</td>\n",
       "      <td>...</td>\n",
       "      <td>...</td>\n",
       "    </tr>\n",
       "    <tr>\n",
       "      <th>2218</th>\n",
       "      <td>2012-05-04</td>\n",
       "      <td>visitors</td>\n",
       "      <td>NaN</td>\n",
       "      <td>NaN</td>\n",
       "      <td>0</td>\n",
       "    </tr>\n",
       "    <tr>\n",
       "      <th>2219</th>\n",
       "      <td>2012-05-04</td>\n",
       "      <td>members</td>\n",
       "      <td>Новые подписчики</td>\n",
       "      <td>NaN</td>\n",
       "      <td>1</td>\n",
       "    </tr>\n",
       "    <tr>\n",
       "      <th>2220</th>\n",
       "      <td>2012-04-25</td>\n",
       "      <td>views</td>\n",
       "      <td>NaN</td>\n",
       "      <td>NaN</td>\n",
       "      <td>0</td>\n",
       "    </tr>\n",
       "    <tr>\n",
       "      <th>2221</th>\n",
       "      <td>2012-04-25</td>\n",
       "      <td>visitors</td>\n",
       "      <td>NaN</td>\n",
       "      <td>NaN</td>\n",
       "      <td>0</td>\n",
       "    </tr>\n",
       "    <tr>\n",
       "      <th>2222</th>\n",
       "      <td>2012-04-25</td>\n",
       "      <td>feedback</td>\n",
       "      <td>Нравится</td>\n",
       "      <td>NaN</td>\n",
       "      <td>1</td>\n",
       "    </tr>\n",
       "  </tbody>\n",
       "</table>\n",
       "<p>2223 rows × 5 columns</p>\n",
       "</div>"
      ],
      "text/plain": [
       "           Дата  Критерий         Парам. №1  Парам. №2  Значение\n",
       "0    2025-08-08     views               NaN        NaN         0\n",
       "1    2025-08-08  visitors               NaN        NaN         0\n",
       "2    2025-08-08  feedback          Нравится        NaN         2\n",
       "3    2025-08-08   members  Новые подписчики        NaN         1\n",
       "4    2025-07-04     views               NaN        NaN         0\n",
       "...         ...       ...               ...        ...       ...\n",
       "2218 2012-05-04  visitors               NaN        NaN         0\n",
       "2219 2012-05-04   members  Новые подписчики        NaN         1\n",
       "2220 2012-04-25     views               NaN        NaN         0\n",
       "2221 2012-04-25  visitors               NaN        NaN         0\n",
       "2222 2012-04-25  feedback          Нравится        NaN         1\n",
       "\n",
       "[2223 rows x 5 columns]"
      ]
     },
     "execution_count": 6,
     "metadata": {},
     "output_type": "execute_result"
    }
   ],
   "source": [
    "# Преобразование столбца \"Дата\" в datetime\n",
    "data['Дата'] = pd.to_datetime(data['Дата'], format='%d.%m.%Y')\n",
    "data"
   ]
  },
  {
   "cell_type": "code",
   "execution_count": null,
   "id": "05c64942",
   "metadata": {},
   "outputs": [
    {
     "data": {
      "text/html": [
       "<div>\n",
       "<style scoped>\n",
       "    .dataframe tbody tr th:only-of-type {\n",
       "        vertical-align: middle;\n",
       "    }\n",
       "\n",
       "    .dataframe tbody tr th {\n",
       "        vertical-align: top;\n",
       "    }\n",
       "\n",
       "    .dataframe thead th {\n",
       "        text-align: right;\n",
       "    }\n",
       "</style>\n",
       "<table border=\"1\" class=\"dataframe\">\n",
       "  <thead>\n",
       "    <tr style=\"text-align: right;\">\n",
       "      <th></th>\n",
       "      <th>Дата</th>\n",
       "      <th>Критерий</th>\n",
       "      <th>Парам. №1</th>\n",
       "      <th>Значение</th>\n",
       "    </tr>\n",
       "  </thead>\n",
       "  <tbody>\n",
       "    <tr>\n",
       "      <th>0</th>\n",
       "      <td>2025-08-08</td>\n",
       "      <td>views</td>\n",
       "      <td>NaN</td>\n",
       "      <td>0</td>\n",
       "    </tr>\n",
       "    <tr>\n",
       "      <th>1</th>\n",
       "      <td>2025-08-08</td>\n",
       "      <td>visitors</td>\n",
       "      <td>NaN</td>\n",
       "      <td>0</td>\n",
       "    </tr>\n",
       "    <tr>\n",
       "      <th>2</th>\n",
       "      <td>2025-08-08</td>\n",
       "      <td>feedback</td>\n",
       "      <td>Нравится</td>\n",
       "      <td>2</td>\n",
       "    </tr>\n",
       "    <tr>\n",
       "      <th>3</th>\n",
       "      <td>2025-08-08</td>\n",
       "      <td>members</td>\n",
       "      <td>Новые подписчики</td>\n",
       "      <td>1</td>\n",
       "    </tr>\n",
       "    <tr>\n",
       "      <th>4</th>\n",
       "      <td>2025-07-04</td>\n",
       "      <td>views</td>\n",
       "      <td>NaN</td>\n",
       "      <td>0</td>\n",
       "    </tr>\n",
       "    <tr>\n",
       "      <th>...</th>\n",
       "      <td>...</td>\n",
       "      <td>...</td>\n",
       "      <td>...</td>\n",
       "      <td>...</td>\n",
       "    </tr>\n",
       "    <tr>\n",
       "      <th>2218</th>\n",
       "      <td>2012-05-04</td>\n",
       "      <td>visitors</td>\n",
       "      <td>NaN</td>\n",
       "      <td>0</td>\n",
       "    </tr>\n",
       "    <tr>\n",
       "      <th>2219</th>\n",
       "      <td>2012-05-04</td>\n",
       "      <td>members</td>\n",
       "      <td>Новые подписчики</td>\n",
       "      <td>1</td>\n",
       "    </tr>\n",
       "    <tr>\n",
       "      <th>2220</th>\n",
       "      <td>2012-04-25</td>\n",
       "      <td>views</td>\n",
       "      <td>NaN</td>\n",
       "      <td>0</td>\n",
       "    </tr>\n",
       "    <tr>\n",
       "      <th>2221</th>\n",
       "      <td>2012-04-25</td>\n",
       "      <td>visitors</td>\n",
       "      <td>NaN</td>\n",
       "      <td>0</td>\n",
       "    </tr>\n",
       "    <tr>\n",
       "      <th>2222</th>\n",
       "      <td>2012-04-25</td>\n",
       "      <td>feedback</td>\n",
       "      <td>Нравится</td>\n",
       "      <td>1</td>\n",
       "    </tr>\n",
       "  </tbody>\n",
       "</table>\n",
       "<p>2223 rows × 4 columns</p>\n",
       "</div>"
      ],
      "text/plain": [
       "           Дата  Критерий         Парам. №1  Значение\n",
       "0    2025-08-08     views               NaN         0\n",
       "1    2025-08-08  visitors               NaN         0\n",
       "2    2025-08-08  feedback          Нравится         2\n",
       "3    2025-08-08   members  Новые подписчики         1\n",
       "4    2025-07-04     views               NaN         0\n",
       "...         ...       ...               ...       ...\n",
       "2218 2012-05-04  visitors               NaN         0\n",
       "2219 2012-05-04   members  Новые подписчики         1\n",
       "2220 2012-04-25     views               NaN         0\n",
       "2221 2012-04-25  visitors               NaN         0\n",
       "2222 2012-04-25  feedback          Нравится         1\n",
       "\n",
       "[2223 rows x 4 columns]"
      ]
     },
     "execution_count": 7,
     "metadata": {},
     "output_type": "execute_result"
    }
   ],
   "source": [
    "# Удаление неинформативного столбца\n",
    "data = data.drop(\"Парам. №2\", axis=1)\n",
    "data"
   ]
  },
  {
   "cell_type": "markdown",
   "id": "f6b9d74f",
   "metadata": {},
   "source": [
    "### Проведём фильтрацию, чтобы получить информацию о количестве лайков"
   ]
  },
  {
   "cell_type": "code",
   "execution_count": null,
   "id": "93a4afb8",
   "metadata": {},
   "outputs": [],
   "source": [
    "data = data[(data[\"Критерий\"] == \"feedback\") & (data[\"Парам. №1\"] == \"Нравится\")]"
   ]
  },
  {
   "cell_type": "code",
   "execution_count": null,
   "id": "1af09ae2",
   "metadata": {},
   "outputs": [
    {
     "data": {
      "text/html": [
       "<div>\n",
       "<style scoped>\n",
       "    .dataframe tbody tr th:only-of-type {\n",
       "        vertical-align: middle;\n",
       "    }\n",
       "\n",
       "    .dataframe tbody tr th {\n",
       "        vertical-align: top;\n",
       "    }\n",
       "\n",
       "    .dataframe thead th {\n",
       "        text-align: right;\n",
       "    }\n",
       "</style>\n",
       "<table border=\"1\" class=\"dataframe\">\n",
       "  <thead>\n",
       "    <tr style=\"text-align: right;\">\n",
       "      <th></th>\n",
       "      <th>Дата</th>\n",
       "      <th>Нравится</th>\n",
       "    </tr>\n",
       "  </thead>\n",
       "  <tbody>\n",
       "    <tr>\n",
       "      <th>2</th>\n",
       "      <td>2025-08-08</td>\n",
       "      <td>2</td>\n",
       "    </tr>\n",
       "    <tr>\n",
       "      <th>19</th>\n",
       "      <td>2024-11-22</td>\n",
       "      <td>1</td>\n",
       "    </tr>\n",
       "    <tr>\n",
       "      <th>45</th>\n",
       "      <td>2024-08-09</td>\n",
       "      <td>1</td>\n",
       "    </tr>\n",
       "    <tr>\n",
       "      <th>134</th>\n",
       "      <td>2023-09-02</td>\n",
       "      <td>2</td>\n",
       "    </tr>\n",
       "    <tr>\n",
       "      <th>143</th>\n",
       "      <td>2023-07-28</td>\n",
       "      <td>2</td>\n",
       "    </tr>\n",
       "    <tr>\n",
       "      <th>...</th>\n",
       "      <td>...</td>\n",
       "      <td>...</td>\n",
       "    </tr>\n",
       "    <tr>\n",
       "      <th>2058</th>\n",
       "      <td>2014-04-07</td>\n",
       "      <td>3</td>\n",
       "    </tr>\n",
       "    <tr>\n",
       "      <th>2108</th>\n",
       "      <td>2013-10-03</td>\n",
       "      <td>2</td>\n",
       "    </tr>\n",
       "    <tr>\n",
       "      <th>2113</th>\n",
       "      <td>2013-09-25</td>\n",
       "      <td>1</td>\n",
       "    </tr>\n",
       "    <tr>\n",
       "      <th>2136</th>\n",
       "      <td>2013-06-06</td>\n",
       "      <td>2</td>\n",
       "    </tr>\n",
       "    <tr>\n",
       "      <th>2222</th>\n",
       "      <td>2012-04-25</td>\n",
       "      <td>1</td>\n",
       "    </tr>\n",
       "  </tbody>\n",
       "</table>\n",
       "<p>272 rows × 2 columns</p>\n",
       "</div>"
      ],
      "text/plain": [
       "           Дата  Нравится\n",
       "2    2025-08-08         2\n",
       "19   2024-11-22         1\n",
       "45   2024-08-09         1\n",
       "134  2023-09-02         2\n",
       "143  2023-07-28         2\n",
       "...         ...       ...\n",
       "2058 2014-04-07         3\n",
       "2108 2013-10-03         2\n",
       "2113 2013-09-25         1\n",
       "2136 2013-06-06         2\n",
       "2222 2012-04-25         1\n",
       "\n",
       "[272 rows x 2 columns]"
      ]
     },
     "execution_count": 9,
     "metadata": {},
     "output_type": "execute_result"
    }
   ],
   "source": [
    "# Оставляем только нужные столбцы и переименовываем\n",
    "data = data[[\"Дата\", \"Значение\"]].rename(columns={\"Значение\": \"Нравится\"})\n",
    "\n",
    "data"
   ]
  },
  {
   "cell_type": "code",
   "execution_count": null,
   "id": "60605376",
   "metadata": {},
   "outputs": [
    {
     "name": "stdout",
     "output_type": "stream",
     "text": [
      "<class 'pandas.core.frame.DataFrame'>\n",
      "Index: 272 entries, 2 to 2222\n",
      "Data columns (total 2 columns):\n",
      " #   Column    Non-Null Count  Dtype         \n",
      "---  ------    --------------  -----         \n",
      " 0   Дата      272 non-null    datetime64[ns]\n",
      " 1   Нравится  272 non-null    int64         \n",
      "dtypes: datetime64[ns](1), int64(1)\n",
      "memory usage: 6.4 KB\n"
     ]
    }
   ],
   "source": [
    "data.info()"
   ]
  },
  {
   "cell_type": "code",
   "execution_count": null,
   "id": "d8a6c4e6",
   "metadata": {},
   "outputs": [
    {
     "data": {
      "text/html": [
       "<div>\n",
       "<style scoped>\n",
       "    .dataframe tbody tr th:only-of-type {\n",
       "        vertical-align: middle;\n",
       "    }\n",
       "\n",
       "    .dataframe tbody tr th {\n",
       "        vertical-align: top;\n",
       "    }\n",
       "\n",
       "    .dataframe thead th {\n",
       "        text-align: right;\n",
       "    }\n",
       "</style>\n",
       "<table border=\"1\" class=\"dataframe\">\n",
       "  <thead>\n",
       "    <tr style=\"text-align: right;\">\n",
       "      <th></th>\n",
       "      <th>Дата</th>\n",
       "      <th>Нравится</th>\n",
       "    </tr>\n",
       "  </thead>\n",
       "  <tbody>\n",
       "    <tr>\n",
       "      <th>2</th>\n",
       "      <td>2025-08-08</td>\n",
       "      <td>2</td>\n",
       "    </tr>\n",
       "    <tr>\n",
       "      <th>19</th>\n",
       "      <td>2024-11-22</td>\n",
       "      <td>1</td>\n",
       "    </tr>\n",
       "    <tr>\n",
       "      <th>45</th>\n",
       "      <td>2024-08-09</td>\n",
       "      <td>1</td>\n",
       "    </tr>\n",
       "    <tr>\n",
       "      <th>134</th>\n",
       "      <td>2023-09-02</td>\n",
       "      <td>2</td>\n",
       "    </tr>\n",
       "    <tr>\n",
       "      <th>143</th>\n",
       "      <td>2023-07-28</td>\n",
       "      <td>2</td>\n",
       "    </tr>\n",
       "    <tr>\n",
       "      <th>...</th>\n",
       "      <td>...</td>\n",
       "      <td>...</td>\n",
       "    </tr>\n",
       "    <tr>\n",
       "      <th>2058</th>\n",
       "      <td>2014-04-07</td>\n",
       "      <td>3</td>\n",
       "    </tr>\n",
       "    <tr>\n",
       "      <th>2108</th>\n",
       "      <td>2013-10-03</td>\n",
       "      <td>2</td>\n",
       "    </tr>\n",
       "    <tr>\n",
       "      <th>2113</th>\n",
       "      <td>2013-09-25</td>\n",
       "      <td>1</td>\n",
       "    </tr>\n",
       "    <tr>\n",
       "      <th>2136</th>\n",
       "      <td>2013-06-06</td>\n",
       "      <td>2</td>\n",
       "    </tr>\n",
       "    <tr>\n",
       "      <th>2222</th>\n",
       "      <td>2012-04-25</td>\n",
       "      <td>1</td>\n",
       "    </tr>\n",
       "  </tbody>\n",
       "</table>\n",
       "<p>272 rows × 2 columns</p>\n",
       "</div>"
      ],
      "text/plain": [
       "           Дата  Нравится\n",
       "2    2025-08-08         2\n",
       "19   2024-11-22         1\n",
       "45   2024-08-09         1\n",
       "134  2023-09-02         2\n",
       "143  2023-07-28         2\n",
       "...         ...       ...\n",
       "2058 2014-04-07         3\n",
       "2108 2013-10-03         2\n",
       "2113 2013-09-25         1\n",
       "2136 2013-06-06         2\n",
       "2222 2012-04-25         1\n",
       "\n",
       "[272 rows x 2 columns]"
      ]
     },
     "execution_count": 11,
     "metadata": {},
     "output_type": "execute_result"
    }
   ],
   "source": [
    "data"
   ]
  },
  {
   "cell_type": "markdown",
   "id": "fc07a58d",
   "metadata": {},
   "source": [
    "### Отсортируем таблицу по возрастанию даты"
   ]
  },
  {
   "cell_type": "code",
   "execution_count": null,
   "id": "61327f7b",
   "metadata": {},
   "outputs": [
    {
     "data": {
      "text/html": [
       "<div>\n",
       "<style scoped>\n",
       "    .dataframe tbody tr th:only-of-type {\n",
       "        vertical-align: middle;\n",
       "    }\n",
       "\n",
       "    .dataframe tbody tr th {\n",
       "        vertical-align: top;\n",
       "    }\n",
       "\n",
       "    .dataframe thead th {\n",
       "        text-align: right;\n",
       "    }\n",
       "</style>\n",
       "<table border=\"1\" class=\"dataframe\">\n",
       "  <thead>\n",
       "    <tr style=\"text-align: right;\">\n",
       "      <th></th>\n",
       "      <th>Дата</th>\n",
       "      <th>Нравится</th>\n",
       "    </tr>\n",
       "  </thead>\n",
       "  <tbody>\n",
       "    <tr>\n",
       "      <th>0</th>\n",
       "      <td>2012-04-25</td>\n",
       "      <td>1</td>\n",
       "    </tr>\n",
       "    <tr>\n",
       "      <th>1</th>\n",
       "      <td>2013-06-06</td>\n",
       "      <td>2</td>\n",
       "    </tr>\n",
       "    <tr>\n",
       "      <th>2</th>\n",
       "      <td>2013-09-25</td>\n",
       "      <td>1</td>\n",
       "    </tr>\n",
       "    <tr>\n",
       "      <th>3</th>\n",
       "      <td>2013-10-03</td>\n",
       "      <td>2</td>\n",
       "    </tr>\n",
       "    <tr>\n",
       "      <th>4</th>\n",
       "      <td>2014-04-07</td>\n",
       "      <td>3</td>\n",
       "    </tr>\n",
       "    <tr>\n",
       "      <th>...</th>\n",
       "      <td>...</td>\n",
       "      <td>...</td>\n",
       "    </tr>\n",
       "    <tr>\n",
       "      <th>267</th>\n",
       "      <td>2023-07-28</td>\n",
       "      <td>2</td>\n",
       "    </tr>\n",
       "    <tr>\n",
       "      <th>268</th>\n",
       "      <td>2023-09-02</td>\n",
       "      <td>2</td>\n",
       "    </tr>\n",
       "    <tr>\n",
       "      <th>269</th>\n",
       "      <td>2024-08-09</td>\n",
       "      <td>1</td>\n",
       "    </tr>\n",
       "    <tr>\n",
       "      <th>270</th>\n",
       "      <td>2024-11-22</td>\n",
       "      <td>1</td>\n",
       "    </tr>\n",
       "    <tr>\n",
       "      <th>271</th>\n",
       "      <td>2025-08-08</td>\n",
       "      <td>2</td>\n",
       "    </tr>\n",
       "  </tbody>\n",
       "</table>\n",
       "<p>272 rows × 2 columns</p>\n",
       "</div>"
      ],
      "text/plain": [
       "          Дата  Нравится\n",
       "0   2012-04-25         1\n",
       "1   2013-06-06         2\n",
       "2   2013-09-25         1\n",
       "3   2013-10-03         2\n",
       "4   2014-04-07         3\n",
       "..         ...       ...\n",
       "267 2023-07-28         2\n",
       "268 2023-09-02         2\n",
       "269 2024-08-09         1\n",
       "270 2024-11-22         1\n",
       "271 2025-08-08         2\n",
       "\n",
       "[272 rows x 2 columns]"
      ]
     },
     "execution_count": 12,
     "metadata": {},
     "output_type": "execute_result"
    }
   ],
   "source": [
    "# СОРТИРОВКА по дате (от старых к новым)\n",
    "data = data.sort_values('Дата')\n",
    "# Сброс индекса\n",
    "data = data.reset_index(drop=True)\n",
    "data\n",
    "\n",
    "\n"
   ]
  },
  {
   "cell_type": "markdown",
   "id": "54e16680",
   "metadata": {},
   "source": [
    "## Создадим новые прищнаки для анализа"
   ]
  },
  {
   "cell_type": "code",
   "execution_count": null,
   "id": "c99a1f72",
   "metadata": {},
   "outputs": [
    {
     "data": {
      "text/html": [
       "<div>\n",
       "<style scoped>\n",
       "    .dataframe tbody tr th:only-of-type {\n",
       "        vertical-align: middle;\n",
       "    }\n",
       "\n",
       "    .dataframe tbody tr th {\n",
       "        vertical-align: top;\n",
       "    }\n",
       "\n",
       "    .dataframe thead th {\n",
       "        text-align: right;\n",
       "    }\n",
       "</style>\n",
       "<table border=\"1\" class=\"dataframe\">\n",
       "  <thead>\n",
       "    <tr style=\"text-align: right;\">\n",
       "      <th></th>\n",
       "      <th>Дата</th>\n",
       "      <th>Нравится</th>\n",
       "      <th>День_недели</th>\n",
       "      <th>Месяц</th>\n",
       "      <th>Год</th>\n",
       "      <th>День_года</th>\n",
       "    </tr>\n",
       "  </thead>\n",
       "  <tbody>\n",
       "    <tr>\n",
       "      <th>0</th>\n",
       "      <td>2012-04-25</td>\n",
       "      <td>1</td>\n",
       "      <td>2</td>\n",
       "      <td>4</td>\n",
       "      <td>2012</td>\n",
       "      <td>116</td>\n",
       "    </tr>\n",
       "    <tr>\n",
       "      <th>1</th>\n",
       "      <td>2013-06-06</td>\n",
       "      <td>2</td>\n",
       "      <td>3</td>\n",
       "      <td>6</td>\n",
       "      <td>2013</td>\n",
       "      <td>157</td>\n",
       "    </tr>\n",
       "    <tr>\n",
       "      <th>2</th>\n",
       "      <td>2013-09-25</td>\n",
       "      <td>1</td>\n",
       "      <td>2</td>\n",
       "      <td>9</td>\n",
       "      <td>2013</td>\n",
       "      <td>268</td>\n",
       "    </tr>\n",
       "    <tr>\n",
       "      <th>3</th>\n",
       "      <td>2013-10-03</td>\n",
       "      <td>2</td>\n",
       "      <td>3</td>\n",
       "      <td>10</td>\n",
       "      <td>2013</td>\n",
       "      <td>276</td>\n",
       "    </tr>\n",
       "    <tr>\n",
       "      <th>4</th>\n",
       "      <td>2014-04-07</td>\n",
       "      <td>3</td>\n",
       "      <td>0</td>\n",
       "      <td>4</td>\n",
       "      <td>2014</td>\n",
       "      <td>97</td>\n",
       "    </tr>\n",
       "    <tr>\n",
       "      <th>...</th>\n",
       "      <td>...</td>\n",
       "      <td>...</td>\n",
       "      <td>...</td>\n",
       "      <td>...</td>\n",
       "      <td>...</td>\n",
       "      <td>...</td>\n",
       "    </tr>\n",
       "    <tr>\n",
       "      <th>267</th>\n",
       "      <td>2023-07-28</td>\n",
       "      <td>2</td>\n",
       "      <td>4</td>\n",
       "      <td>7</td>\n",
       "      <td>2023</td>\n",
       "      <td>209</td>\n",
       "    </tr>\n",
       "    <tr>\n",
       "      <th>268</th>\n",
       "      <td>2023-09-02</td>\n",
       "      <td>2</td>\n",
       "      <td>5</td>\n",
       "      <td>9</td>\n",
       "      <td>2023</td>\n",
       "      <td>245</td>\n",
       "    </tr>\n",
       "    <tr>\n",
       "      <th>269</th>\n",
       "      <td>2024-08-09</td>\n",
       "      <td>1</td>\n",
       "      <td>4</td>\n",
       "      <td>8</td>\n",
       "      <td>2024</td>\n",
       "      <td>222</td>\n",
       "    </tr>\n",
       "    <tr>\n",
       "      <th>270</th>\n",
       "      <td>2024-11-22</td>\n",
       "      <td>1</td>\n",
       "      <td>4</td>\n",
       "      <td>11</td>\n",
       "      <td>2024</td>\n",
       "      <td>327</td>\n",
       "    </tr>\n",
       "    <tr>\n",
       "      <th>271</th>\n",
       "      <td>2025-08-08</td>\n",
       "      <td>2</td>\n",
       "      <td>4</td>\n",
       "      <td>8</td>\n",
       "      <td>2025</td>\n",
       "      <td>220</td>\n",
       "    </tr>\n",
       "  </tbody>\n",
       "</table>\n",
       "<p>272 rows × 6 columns</p>\n",
       "</div>"
      ],
      "text/plain": [
       "          Дата  Нравится  День_недели  Месяц   Год  День_года\n",
       "0   2012-04-25         1            2      4  2012        116\n",
       "1   2013-06-06         2            3      6  2013        157\n",
       "2   2013-09-25         1            2      9  2013        268\n",
       "3   2013-10-03         2            3     10  2013        276\n",
       "4   2014-04-07         3            0      4  2014         97\n",
       "..         ...       ...          ...    ...   ...        ...\n",
       "267 2023-07-28         2            4      7  2023        209\n",
       "268 2023-09-02         2            5      9  2023        245\n",
       "269 2024-08-09         1            4      8  2024        222\n",
       "270 2024-11-22         1            4     11  2024        327\n",
       "271 2025-08-08         2            4      8  2025        220\n",
       "\n",
       "[272 rows x 6 columns]"
      ]
     },
     "execution_count": 13,
     "metadata": {},
     "output_type": "execute_result"
    }
   ],
   "source": [
    "# Добавляем признаки для анализа\n",
    "data['День_недели'] = data['Дата'].dt.dayofweek  # Извлекли день недели (0=понедельник, 6=воскресенье)\n",
    "data['Месяц'] = data['Дата'].dt.month            # Извлекли месяц\n",
    "data['Год'] = data['Дата'].dt.year               # Извлекли год\n",
    "data['День_года'] = data['Дата'].dt.dayofyear    # Извлекли день года\n",
    "\n",
    "data\n",
    "\n"
   ]
  },
  {
   "cell_type": "markdown",
   "id": "4cfa06c4",
   "metadata": {},
   "source": [
    "### Получим средние значения количества лайков по дням недели"
   ]
  },
  {
   "cell_type": "code",
   "execution_count": null,
   "id": "a9724985",
   "metadata": {},
   "outputs": [
    {
     "name": "stdout",
     "output_type": "stream",
     "text": [
      "Среднее количество лайков по дням недели:\n",
      "День_недели\n",
      "0    2.620690\n",
      "1    2.309524\n",
      "2    3.973684\n",
      "3    1.978261\n",
      "4    2.410256\n",
      "5    1.333333\n",
      "6    1.484848\n",
      "Name: Нравится, dtype: float64\n"
     ]
    }
   ],
   "source": [
    "# Анализ по дням недели\n",
    "likes_by_weekday = data.groupby('День_недели')['Нравится'].mean()\n",
    "print(\"Среднее количество лайков по дням недели:\")\n",
    "print(likes_by_weekday)"
   ]
  },
  {
   "cell_type": "markdown",
   "id": "1751c14f",
   "metadata": {},
   "source": [
    "### Визуализируем"
   ]
  },
  {
   "cell_type": "code",
   "execution_count": null,
   "id": "e61712a6",
   "metadata": {},
   "outputs": [
    {
     "data": {
      "image/png": "[encoded data removed]",
      "text/plain": [
       "<Figure size 1200x400 with 2 Axes>"
      ]
     },
     "metadata": {},
     "output_type": "display_data"
    }
   ],
   "source": [
    "# Визуализация\n",
    "plt.figure(figsize=(12, 4))\n",
    "\n",
    "plt.subplot(1, 2, 1)\n",
    "likes_by_weekday.plot(kind='bar')\n",
    "plt.title('Средние лайки по дням недели')\n",
    "plt.xlabel('День недели (0=Пн, 6=Вс)')\n",
    "plt.ylabel('Среднее количество лайков')\n",
    "\n",
    "plt.subplot(1, 2, 2)\n",
    "data['Нравится'].plot(kind='hist', bins=20)\n",
    "plt.title('Распределение количества лайков')\n",
    "plt.xlabel('Количество лайков')\n",
    "\n",
    "plt.tight_layout()\n",
    "plt.show()"
   ]
  },
  {
   "cell_type": "code",
   "execution_count": null,
   "id": "d721cf7f",
   "metadata": {},
   "outputs": [
    {
     "data": {
      "image/png": "[encoded data removed]",
      "text/plain": [
       "<Figure size 1500x1200 with 5 Axes>"
      ]
     },
     "metadata": {},
     "output_type": "display_data"
    }
   ],
   "source": [
    "# 1. Тренд лайков по годам\n",
    "plt.figure(figsize=(15, 12))\n",
    "\n",
    "plt.subplot(4, 1, 1)\n",
    "yearly_trend = data.groupby('Год')['Нравится'].sum()\n",
    "yearly_trend.plot(kind='line', marker='o', linewidth=2, markersize=8)\n",
    "plt.title('Общее количество лайков по годам', fontsize=14, fontweight='bold')\n",
    "plt.xlabel('Год')\n",
    "plt.ylabel('Сумма лайков')\n",
    "plt.grid(True, alpha=0.3)\n",
    "plt.xticks(rotation=45)\n",
    "\n",
    "# 2. Тренд по месяцам\n",
    "plt.subplot(4, 1, 2)\n",
    "monthly_trend = data.groupby('Месяц')['Нравится'].mean()\n",
    "months = ['Янв', 'Фев', 'Мар', 'Апр', 'Май', 'Июн', 'Июл', 'Авг', 'Сен', 'Окт', 'Ноя', 'Дек']\n",
    "monthly_trend.index = months\n",
    "monthly_trend.plot(kind='bar', color='skyblue')\n",
    "plt.title('Средние лайки по месяцам', fontsize=14, fontweight='bold')\n",
    "plt.xlabel('Месяц')\n",
    "plt.ylabel('Среднее количество лайков')\n",
    "plt.grid(True, alpha=0.3)\n",
    "\n",
    "# 3. Сезонность по дням года\n",
    "plt.subplot(4, 1, 3)\n",
    "seasonal_data = data.groupby('День_года')['Нравится'].mean()\n",
    "plt.plot(seasonal_data.index, seasonal_data.values, linewidth=2)\n",
    "plt.title('Сезонность лайков в течение года', fontsize=14, fontweight='bold')\n",
    "plt.xlabel('День года')\n",
    "plt.ylabel('Среднее количество лайков')\n",
    "plt.grid(True, alpha=0.3)\n",
    "\n",
    "# Добавляем квартальные разделители\n",
    "quarter_days = [1, 90, 181, 274]\n",
    "for day in quarter_days:\n",
    "    plt.axvline(x=day, color='red', linestyle='--', alpha=0.5)\n",
    "\n",
    "# 4. Heatmap дня недели vs месяц\n",
    "plt.subplot(4, 1, 4)\n",
    "pivot_table = data.pivot_table(values='Нравится', \n",
    "                              index='День_недели', \n",
    "                              columns='Месяц', \n",
    "                              aggfunc='mean')\n",
    "\n",
    "# Переименовываем для читаемости\n",
    "days_of_week = ['Пн', 'Вт', 'Ср', 'Чт', 'Пт', 'Сб', 'Вс']\n",
    "pivot_table.index = days_of_week\n",
    "pivot_table.columns = months\n",
    "\n",
    "sns.heatmap(pivot_table, cmap='YlOrRd', annot=True, fmt='.1f', \n",
    "            cbar_kws={'label': 'Средние лайки'})\n",
    "plt.title('Лайки: день недели × месяц', fontsize=14, fontweight='bold')\n",
    "plt.xlabel('Месяц')\n",
    "plt.ylabel('День недели')\n",
    "\n",
    "plt.tight_layout()\n",
    "plt.show()"
   ]
  },
  {
   "cell_type": "markdown",
   "id": "83709a0c",
   "metadata": {},
   "source": [
    "### Интерактивный график динамики лайков"
   ]
  },
  {
   "cell_type": "code",
   "execution_count": null,
   "id": "c4f801da",
   "metadata": {},
   "outputs": [
    {
     "data": {
      "application/vnd.plotly.v1+json": {
       "config": {
        "plotlyServerURL": "https://plot.ly"
       },
       "data": [
        {
         "customdata": {
          "bdata": "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",
          "dtype": "i4",
          "shape": "272, 2"
         },
         "hovertemplate": "Дата=%{x}<br>Нравится=%{y}<br>День_недели=%{customdata[0]}<br>Месяц=%{customdata[1]}<extra></extra>",
         "legendgroup": "",
         "line": {
          "color": "#636efa",
          "dash": "solid"
         },
         "marker": {
          "symbol": "circle"
         },
         "mode": "lines",
         "name": "",
         "orientation": "v",
         "showlegend": false,
         "type": "scatter",
         "x": [
          "2012-04-25T00:00:00.000000000",
          "2013-06-06T00:00:00.000000000",
          "2013-09-25T00:00:00.000000000",
          "2013-10-03T00:00:00.000000000",
          "2014-04-07T00:00:00.000000000",
          "2014-04-08T00:00:00.000000000",
          "2014-06-06T00:00:00.000000000",
          "2014-06-09T00:00:00.000000000",
          "2014-06-22T00:00:00.000000000",
          "2014-07-31T00:00:00.000000000",
          "2014-09-03T00:00:00.000000000",
          "2014-09-22T00:00:00.000000000",
          "2014-09-22T00:00:00.000000000",
          "2014-09-23T00:00:00.000000000",
          "2014-09-24T00:00:00.000000000",
          "2014-09-25T00:00:00.000000000",
          "2014-09-26T00:00:00.000000000",
          "2014-10-07T00:00:00.000000000",
          "2014-10-08T00:00:00.000000000",
          "2014-10-10T00:00:00.000000000",
          "2014-10-11T00:00:00.000000000",
          "2014-10-16T00:00:00.000000000",
          "2014-10-17T00:00:00.000000000",
          "2014-11-04T00:00:00.000000000",
          "2014-11-18T00:00:00.000000000",
          "2014-11-22T00:00:00.000000000",
          "2014-11-27T00:00:00.000000000",
          "2014-12-14T00:00:00.000000000",
          "2015-01-16T00:00:00.000000000",
          "2015-02-06T00:00:00.000000000",
          "2015-02-07T00:00:00.000000000",
          "2015-02-10T00:00:00.000000000",
          "2015-02-17T00:00:00.000000000",
          "2015-02-18T00:00:00.000000000",
          "2015-03-07T00:00:00.000000000",
          "2015-03-11T00:00:00.000000000",
          "2015-03-12T00:00:00.000000000",
          "2015-03-18T00:00:00.000000000",
          "2015-04-06T00:00:00.000000000",
          "2015-04-08T00:00:00.000000000",
          "2015-05-02T00:00:00.000000000",
          "2015-05-04T00:00:00.000000000",
          "2015-05-09T00:00:00.000000000",
          "2015-05-10T00:00:00.000000000",
          "2015-05-11T00:00:00.000000000",
          "2015-07-08T00:00:00.000000000",
          "2015-08-01T00:00:00.000000000",
          "2015-08-08T00:00:00.000000000",
          "2015-08-12T00:00:00.000000000",
          "2015-08-18T00:00:00.000000000",
          "2015-08-21T00:00:00.000000000",
          "2015-08-22T00:00:00.000000000",
          "2015-08-29T00:00:00.000000000",
          "2015-09-01T00:00:00.000000000",
          "2015-09-04T00:00:00.000000000",
          "2015-09-11T00:00:00.000000000",
          "2015-09-20T00:00:00.000000000",
          "2015-09-21T00:00:00.000000000",
          "2015-09-22T00:00:00.000000000",
          "2015-09-23T00:00:00.000000000",
          "2015-09-24T00:00:00.000000000",
          "2015-09-25T00:00:00.000000000",
          "2015-10-05T00:00:00.000000000",
          "2015-10-07T00:00:00.000000000",
          "2015-10-08T00:00:00.000000000",
          "2015-10-25T00:00:00.000000000",
          "2015-11-19T00:00:00.000000000",
          "2015-12-05T00:00:00.000000000",
          "2015-12-13T00:00:00.000000000",
          "2015-12-17T00:00:00.000000000",
          "2015-12-24T00:00:00.000000000",
          "2016-01-03T00:00:00.000000000",
          "2016-01-20T00:00:00.000000000",
          "2016-01-30T00:00:00.000000000",
          "2016-01-31T00:00:00.000000000",
          "2016-02-01T00:00:00.000000000",
          "2016-02-05T00:00:00.000000000",
          "2016-02-16T00:00:00.000000000",
          "2016-02-19T00:00:00.000000000",
          "2016-02-20T00:00:00.000000000",
          "2016-02-21T00:00:00.000000000",
          "2016-02-23T00:00:00.000000000",
          "2016-02-24T00:00:00.000000000",
          "2016-02-26T00:00:00.000000000",
          "2016-02-29T00:00:00.000000000",
          "2016-03-01T00:00:00.000000000",
          "2016-03-02T00:00:00.000000000",
          "2016-03-03T00:00:00.000000000",
          "2016-03-10T00:00:00.000000000",
          "2016-03-12T00:00:00.000000000",
          "2016-03-14T00:00:00.000000000",
          "2016-03-16T00:00:00.000000000",
          "2016-03-17T00:00:00.000000000",
          "2016-03-18T00:00:00.000000000",
          "2016-03-23T00:00:00.000000000",
          "2016-04-05T00:00:00.000000000",
          "2016-04-10T00:00:00.000000000",
          "2016-04-10T00:00:00.000000000",
          "2016-04-14T00:00:00.000000000",
          "2016-04-15T00:00:00.000000000",
          "2016-05-14T00:00:00.000000000",
          "2016-05-26T00:00:00.000000000",
          "2016-05-27T00:00:00.000000000",
          "2016-05-29T00:00:00.000000000",
          "2016-06-07T00:00:00.000000000",
          "2016-07-05T00:00:00.000000000",
          "2016-07-06T00:00:00.000000000",
          "2016-08-14T00:00:00.000000000",
          "2016-08-27T00:00:00.000000000",
          "2016-08-31T00:00:00.000000000",
          "2016-09-01T00:00:00.000000000",
          "2016-09-02T00:00:00.000000000",
          "2016-09-07T00:00:00.000000000",
          "2016-09-10T00:00:00.000000000",
          "2016-09-13T00:00:00.000000000",
          "2016-09-16T00:00:00.000000000",
          "2016-09-18T00:00:00.000000000",
          "2016-09-19T00:00:00.000000000",
          "2016-09-26T00:00:00.000000000",
          "2016-10-11T00:00:00.000000000",
          "2016-10-22T00:00:00.000000000",
          "2016-10-29T00:00:00.000000000",
          "2016-11-02T00:00:00.000000000",
          "2016-11-08T00:00:00.000000000",
          "2016-11-09T00:00:00.000000000",
          "2016-11-12T00:00:00.000000000",
          "2016-11-14T00:00:00.000000000",
          "2016-11-17T00:00:00.000000000",
          "2016-11-19T00:00:00.000000000",
          "2016-11-24T00:00:00.000000000",
          "2016-11-25T00:00:00.000000000",
          "2016-11-30T00:00:00.000000000",
          "2016-12-02T00:00:00.000000000",
          "2016-12-04T00:00:00.000000000",
          "2016-12-06T00:00:00.000000000",
          "2016-12-09T00:00:00.000000000",
          "2016-12-17T00:00:00.000000000",
          "2016-12-19T00:00:00.000000000",
          "2017-01-03T00:00:00.000000000",
          "2017-01-03T00:00:00.000000000",
          "2017-01-26T00:00:00.000000000",
          "2017-02-23T00:00:00.000000000",
          "2017-02-27T00:00:00.000000000",
          "2017-03-02T00:00:00.000000000",
          "2017-03-11T00:00:00.000000000",
          "2017-03-21T00:00:00.000000000",
          "2017-03-23T00:00:00.000000000",
          "2017-03-25T00:00:00.000000000",
          "2017-04-02T00:00:00.000000000",
          "2017-04-04T00:00:00.000000000",
          "2017-05-22T00:00:00.000000000",
          "2017-06-01T00:00:00.000000000",
          "2017-06-16T00:00:00.000000000",
          "2017-06-23T00:00:00.000000000",
          "2017-06-24T00:00:00.000000000",
          "2017-06-26T00:00:00.000000000",
          "2017-07-01T00:00:00.000000000",
          "2017-07-20T00:00:00.000000000",
          "2017-07-27T00:00:00.000000000",
          "2017-07-29T00:00:00.000000000",
          "2017-08-11T00:00:00.000000000",
          "2017-08-21T00:00:00.000000000",
          "2017-09-14T00:00:00.000000000",
          "2017-11-03T00:00:00.000000000",
          "2017-11-05T00:00:00.000000000",
          "2017-12-03T00:00:00.000000000",
          "2017-12-03T00:00:00.000000000",
          "2017-12-05T00:00:00.000000000",
          "2017-12-12T00:00:00.000000000",
          "2017-12-12T00:00:00.000000000",
          "2017-12-14T00:00:00.000000000",
          "2018-01-11T00:00:00.000000000",
          "2018-02-05T00:00:00.000000000",
          "2018-02-13T00:00:00.000000000",
          "2018-02-16T00:00:00.000000000",
          "2018-02-24T00:00:00.000000000",
          "2018-03-03T00:00:00.000000000",
          "2018-03-11T00:00:00.000000000",
          "2018-04-21T00:00:00.000000000",
          "2018-04-24T00:00:00.000000000",
          "2018-05-06T00:00:00.000000000",
          "2018-05-30T00:00:00.000000000",
          "2018-08-22T00:00:00.000000000",
          "2018-09-16T00:00:00.000000000",
          "2018-10-10T00:00:00.000000000",
          "2018-10-13T00:00:00.000000000",
          "2018-12-22T00:00:00.000000000",
          "2019-01-10T00:00:00.000000000",
          "2019-01-24T00:00:00.000000000",
          "2019-02-02T00:00:00.000000000",
          "2019-02-06T00:00:00.000000000",
          "2019-02-14T00:00:00.000000000",
          "2019-03-15T00:00:00.000000000",
          "2019-04-22T00:00:00.000000000",
          "2019-04-23T00:00:00.000000000",
          "2019-05-02T00:00:00.000000000",
          "2019-05-21T00:00:00.000000000",
          "2019-07-25T00:00:00.000000000",
          "2019-08-19T00:00:00.000000000",
          "2019-08-19T00:00:00.000000000",
          "2019-08-20T00:00:00.000000000",
          "2019-08-23T00:00:00.000000000",
          "2019-09-21T00:00:00.000000000",
          "2019-10-10T00:00:00.000000000",
          "2019-10-19T00:00:00.000000000",
          "2019-11-13T00:00:00.000000000",
          "2019-11-19T00:00:00.000000000",
          "2019-11-29T00:00:00.000000000",
          "2019-12-02T00:00:00.000000000",
          "2020-01-01T00:00:00.000000000",
          "2020-01-01T00:00:00.000000000",
          "2020-01-02T00:00:00.000000000",
          "2020-01-05T00:00:00.000000000",
          "2020-01-14T00:00:00.000000000",
          "2020-01-24T00:00:00.000000000",
          "2020-01-30T00:00:00.000000000",
          "2020-02-01T00:00:00.000000000",
          "2020-02-04T00:00:00.000000000",
          "2020-02-09T00:00:00.000000000",
          "2020-02-15T00:00:00.000000000",
          "2020-02-16T00:00:00.000000000",
          "2020-02-27T00:00:00.000000000",
          "2020-03-10T00:00:00.000000000",
          "2020-03-17T00:00:00.000000000",
          "2020-03-22T00:00:00.000000000",
          "2020-05-15T00:00:00.000000000",
          "2020-06-01T00:00:00.000000000",
          "2020-06-14T00:00:00.000000000",
          "2020-07-09T00:00:00.000000000",
          "2020-07-22T00:00:00.000000000",
          "2020-08-20T00:00:00.000000000",
          "2020-09-09T00:00:00.000000000",
          "2020-09-25T00:00:00.000000000",
          "2020-10-09T00:00:00.000000000",
          "2020-10-10T00:00:00.000000000",
          "2020-10-17T00:00:00.000000000",
          "2020-10-18T00:00:00.000000000",
          "2020-10-20T00:00:00.000000000",
          "2020-11-11T00:00:00.000000000",
          "2020-12-05T00:00:00.000000000",
          "2020-12-11T00:00:00.000000000",
          "2021-01-03T00:00:00.000000000",
          "2021-01-04T00:00:00.000000000",
          "2021-01-06T00:00:00.000000000",
          "2021-01-24T00:00:00.000000000",
          "2021-02-19T00:00:00.000000000",
          "2021-03-04T00:00:00.000000000",
          "2021-03-08T00:00:00.000000000",
          "2021-03-25T00:00:00.000000000",
          "2021-03-31T00:00:00.000000000",
          "2021-04-01T00:00:00.000000000",
          "2021-04-29T00:00:00.000000000",
          "2021-05-16T00:00:00.000000000",
          "2021-06-08T00:00:00.000000000",
          "2021-06-15T00:00:00.000000000",
          "2021-09-15T00:00:00.000000000",
          "2021-09-23T00:00:00.000000000",
          "2021-09-25T00:00:00.000000000",
          "2021-10-02T00:00:00.000000000",
          "2021-10-11T00:00:00.000000000",
          "2022-09-25T00:00:00.000000000",
          "2022-11-12T00:00:00.000000000",
          "2022-12-13T00:00:00.000000000",
          "2022-12-14T00:00:00.000000000",
          "2023-03-28T00:00:00.000000000",
          "2023-05-20T00:00:00.000000000",
          "2023-05-28T00:00:00.000000000",
          "2023-07-28T00:00:00.000000000",
          "2023-09-02T00:00:00.000000000",
          "2024-08-09T00:00:00.000000000",
          "2024-11-22T00:00:00.000000000",
          "2025-08-08T00:00:00.000000000"
         ],
         "xaxis": "x",
         "y": {
          "bdata": "AQIBAgMCAwMBAQEBDQ8VDAwDJwIBAwECBAEFAQYBAgEYAQEBAwIBAgICAQYDAQEBAQEBAQEDAQEBAQEBAQEBAQEBAgEBAQYBAQEDAQEBAQECAwECAQEBAQYCAQIBBQEBAQEBAQEBAgEBAQEBAgIBAQIBAwIBAgICAQEBAQEBAQECBAIBAQEEAQEBAQEDAQEBAQEBAQEBAQEBCQIBAQEBAQEBAQQCAQMBAQECAQIBAQIBAQEBAQIBAQEBAQEBAwEBAQ8BAQIBBgcBAQECAQEBAQEJGAIBAQEBAgEDAgEBAQEBAQEBAQECCwEQAQIBAQEBAQQBAwEBAQEDAQECAQEBAQIDAQEBAQEHAQEBAgIBAQI=",
          "dtype": "i1"
         },
         "yaxis": "y"
        }
       ],
       "layout": {
        "legend": {
         "tracegroupgap": 0
        },
        "template": {
         "data": {
          "bar": [
           {
            "error_x": {
             "color": "#2a3f5f"
            },
            "error_y": {
             "color": "#2a3f5f"
            },
            "marker": {
             "line": {
              "color": "#E5ECF6",
              "width": 0.5
             },
             "pattern": {
              "fillmode": "overlay",
              "size": 10,
              "solidity": 0.2
             }
            },
            "type": "bar"
           }
          ],
          "barpolar": [
           {
            "marker": {
             "line": {
              "color": "#E5ECF6",
              "width": 0.5
             },
             "pattern": {
              "fillmode": "overlay",
              "size": 10,
              "solidity": 0.2
             }
            },
            "type": "barpolar"
           }
          ],
          "carpet": [
           {
            "aaxis": {
             "endlinecolor": "#2a3f5f",
             "gridcolor": "white",
             "linecolor": "white",
             "minorgridcolor": "white",
             "startlinecolor": "#2a3f5f"
            },
            "baxis": {
             "endlinecolor": "#2a3f5f",
             "gridcolor": "white",
             "linecolor": "white",
             "minorgridcolor": "white",
             "startlinecolor": "#2a3f5f"
            },
            "type": "carpet"
           }
          ],
          "choropleth": [
           {
            "colorbar": {
             "outlinewidth": 0,
             "ticks": ""
            },
            "type": "choropleth"
           }
          ],
          "contour": [
           {
            "colorbar": {
             "outlinewidth": 0,
             "ticks": ""
            },
            "colorscale": [
             [
              0,
              "#0d0887"
             ],
             [
              0.1111111111111111,
              "#46039f"
             ],
             [
              0.2222222222222222,
              "#7201a8"
             ],
             [
              0.3333333333333333,
              "#9c179e"
             ],
             [
              0.4444444444444444,
              "#bd3786"
             ],
             [
              0.5555555555555556,
              "#d8576b"
             ],
             [
              0.6666666666666666,
              "#ed7953"
             ],
             [
              0.7777777777777778,
              "#fb9f3a"
             ],
             [
              0.8888888888888888,
              "#fdca26"
             ],
             [
              1,
              "#f0f921"
             ]
            ],
            "type": "contour"
           }
          ],
          "contourcarpet": [
           {
            "colorbar": {
             "outlinewidth": 0,
             "ticks": ""
            },
            "type": "contourcarpet"
           }
          ],
          "heatmap": [
           {
            "colorbar": {
             "outlinewidth": 0,
             "ticks": ""
            },
            "colorscale": [
             [
              0,
              "#0d0887"
             ],
             [
              0.1111111111111111,
              "#46039f"
             ],
             [
              0.2222222222222222,
              "#7201a8"
             ],
             [
              0.3333333333333333,
              "#9c179e"
             ],
             [
              0.4444444444444444,
              "#bd3786"
             ],
             [
              0.5555555555555556,
              "#d8576b"
             ],
             [
              0.6666666666666666,
              "#ed7953"
             ],
             [
              0.7777777777777778,
              "#fb9f3a"
             ],
             [
              0.8888888888888888,
              "#fdca26"
             ],
             [
              1,
              "#f0f921"
             ]
            ],
            "type": "heatmap"
           }
          ],
          "histogram": [
           {
            "marker": {
             "pattern": {
              "fillmode": "overlay",
              "size": 10,
              "solidity": 0.2
             }
            },
            "type": "histogram"
           }
          ],
          "histogram2d": [
           {
            "colorbar": {
             "outlinewidth": 0,
             "ticks": ""
            },
            "colorscale": [
             [
              0,
              "#0d0887"
             ],
             [
              0.1111111111111111,
              "#46039f"
             ],
             [
              0.2222222222222222,
              "#7201a8"
             ],
             [
              0.3333333333333333,
              "#9c179e"
             ],
             [
              0.4444444444444444,
              "#bd3786"
             ],
             [
              0.5555555555555556,
              "#d8576b"
             ],
             [
              0.6666666666666666,
              "#ed7953"
             ],
             [
              0.7777777777777778,
              "#fb9f3a"
             ],
             [
              0.8888888888888888,
              "#fdca26"
             ],
             [
              1,
              "#f0f921"
             ]
            ],
            "type": "histogram2d"
           }
          ],
          "histogram2dcontour": [
           {
            "colorbar": {
             "outlinewidth": 0,
             "ticks": ""
            },
            "colorscale": [
             [
              0,
              "#0d0887"
             ],
             [
              0.1111111111111111,
              "#46039f"
             ],
             [
              0.2222222222222222,
              "#7201a8"
             ],
             [
              0.3333333333333333,
              "#9c179e"
             ],
             [
              0.4444444444444444,
              "#bd3786"
             ],
             [
              0.5555555555555556,
              "#d8576b"
             ],
             [
              0.6666666666666666,
              "#ed7953"
             ],
             [
              0.7777777777777778,
              "#fb9f3a"
             ],
             [
              0.8888888888888888,
              "#fdca26"
             ],
             [
              1,
              "#f0f921"
             ]
            ],
            "type": "histogram2dcontour"
           }
          ],
          "mesh3d": [
           {
            "colorbar": {
             "outlinewidth": 0,
             "ticks": ""
            },
            "type": "mesh3d"
           }
          ],
          "parcoords": [
           {
            "line": {
             "colorbar": {
              "outlinewidth": 0,
              "ticks": ""
             }
            },
            "type": "parcoords"
           }
          ],
          "pie": [
           {
            "automargin": true,
            "type": "pie"
           }
          ],
          "scatter": [
           {
            "fillpattern": {
             "fillmode": "overlay",
             "size": 10,
             "solidity": 0.2
            },
            "type": "scatter"
           }
          ],
          "scatter3d": [
           {
            "line": {
             "colorbar": {
              "outlinewidth": 0,
              "ticks": ""
             }
            },
            "marker": {
             "colorbar": {
              "outlinewidth": 0,
              "ticks": ""
             }
            },
            "type": "scatter3d"
           }
          ],
          "scattercarpet": [
           {
            "marker": {
             "colorbar": {
              "outlinewidth": 0,
              "ticks": ""
             }
            },
            "type": "scattercarpet"
           }
          ],
          "scattergeo": [
           {
            "marker": {
             "colorbar": {
              "outlinewidth": 0,
              "ticks": ""
             }
            },
            "type": "scattergeo"
           }
          ],
          "scattergl": [
           {
            "marker": {
             "colorbar": {
              "outlinewidth": 0,
              "ticks": ""
             }
            },
            "type": "scattergl"
           }
          ],
          "scattermap": [
           {
            "marker": {
             "colorbar": {
              "outlinewidth": 0,
              "ticks": ""
             }
            },
            "type": "scattermap"
           }
          ],
          "scattermapbox": [
           {
            "marker": {
             "colorbar": {
              "outlinewidth": 0,
              "ticks": ""
             }
            },
            "type": "scattermapbox"
           }
          ],
          "scatterpolar": [
           {
            "marker": {
             "colorbar": {
              "outlinewidth": 0,
              "ticks": ""
             }
            },
            "type": "scatterpolar"
           }
          ],
          "scatterpolargl": [
           {
            "marker": {
             "colorbar": {
              "outlinewidth": 0,
              "ticks": ""
             }
            },
            "type": "scatterpolargl"
           }
          ],
          "scatterternary": [
           {
            "marker": {
             "colorbar": {
              "outlinewidth": 0,
              "ticks": ""
             }
            },
            "type": "scatterternary"
           }
          ],
          "surface": [
           {
            "colorbar": {
             "outlinewidth": 0,
             "ticks": ""
            },
            "colorscale": [
             [
              0,
              "#0d0887"
             ],
             [
              0.1111111111111111,
              "#46039f"
             ],
             [
              0.2222222222222222,
              "#7201a8"
             ],
             [
              0.3333333333333333,
              "#9c179e"
             ],
             [
              0.4444444444444444,
              "#bd3786"
             ],
             [
              0.5555555555555556,
              "#d8576b"
             ],
             [
              0.6666666666666666,
              "#ed7953"
             ],
             [
              0.7777777777777778,
              "#fb9f3a"
             ],
             [
              0.8888888888888888,
              "#fdca26"
             ],
             [
              1,
              "#f0f921"
             ]
            ],
            "type": "surface"
           }
          ],
          "table": [
           {
            "cells": {
             "fill": {
              "color": "#EBF0F8"
             },
             "line": {
              "color": "white"
             }
            },
            "header": {
             "fill": {
              "color": "#C8D4E3"
             },
             "line": {
              "color": "white"
             }
            },
            "type": "table"
           }
          ]
         },
         "layout": {
          "annotationdefaults": {
           "arrowcolor": "#2a3f5f",
           "arrowhead": 0,
           "arrowwidth": 1
          },
          "autotypenumbers": "strict",
          "coloraxis": {
           "colorbar": {
            "outlinewidth": 0,
            "ticks": ""
           }
          },
          "colorscale": {
           "diverging": [
            [
             0,
             "#8e0152"
            ],
            [
             0.1,
             "#c51b7d"
            ],
            [
             0.2,
             "#de77ae"
            ],
            [
             0.3,
             "#f1b6da"
            ],
            [
             0.4,
             "#fde0ef"
            ],
            [
             0.5,
             "#f7f7f7"
            ],
            [
             0.6,
             "#e6f5d0"
            ],
            [
             0.7,
             "#b8e186"
            ],
            [
             0.8,
             "#7fbc41"
            ],
            [
             0.9,
             "#4d9221"
            ],
            [
             1,
             "#276419"
            ]
           ],
           "sequential": [
            [
             0,
             "#0d0887"
            ],
            [
             0.1111111111111111,
             "#46039f"
            ],
            [
             0.2222222222222222,
             "#7201a8"
            ],
            [
             0.3333333333333333,
             "#9c179e"
            ],
            [
             0.4444444444444444,
             "#bd3786"
            ],
            [
             0.5555555555555556,
             "#d8576b"
            ],
            [
             0.6666666666666666,
             "#ed7953"
            ],
            [
             0.7777777777777778,
             "#fb9f3a"
            ],
            [
             0.8888888888888888,
             "#fdca26"
            ],
            [
             1,
             "#f0f921"
            ]
           ],
           "sequentialminus": [
            [
             0,
             "#0d0887"
            ],
            [
             0.1111111111111111,
             "#46039f"
            ],
            [
             0.2222222222222222,
             "#7201a8"
            ],
            [
             0.3333333333333333,
             "#9c179e"
            ],
            [
             0.4444444444444444,
             "#bd3786"
            ],
            [
             0.5555555555555556,
             "#d8576b"
            ],
            [
             0.6666666666666666,
             "#ed7953"
            ],
            [
             0.7777777777777778,
             "#fb9f3a"
            ],
            [
             0.8888888888888888,
             "#fdca26"
            ],
            [
             1,
             "#f0f921"
            ]
           ]
          },
          "colorway": [
           "#636efa",
           "#EF553B",
           "#00cc96",
           "#ab63fa",
           "#FFA15A",
           "#19d3f3",
           "#FF6692",
           "#B6E880",
           "#FF97FF",
           "#FECB52"
          ],
          "font": {
           "color": "#2a3f5f"
          },
          "geo": {
           "bgcolor": "white",
           "lakecolor": "white",
           "landcolor": "#E5ECF6",
           "showlakes": true,
           "showland": true,
           "subunitcolor": "white"
          },
          "hoverlabel": {
           "align": "left"
          },
          "hovermode": "closest",
          "mapbox": {
           "style": "light"
          },
          "paper_bgcolor": "white",
          "plot_bgcolor": "#E5ECF6",
          "polar": {
           "angularaxis": {
            "gridcolor": "white",
            "linecolor": "white",
            "ticks": ""
           },
           "bgcolor": "#E5ECF6",
           "radialaxis": {
            "gridcolor": "white",
            "linecolor": "white",
            "ticks": ""
           }
          },
          "scene": {
           "xaxis": {
            "backgroundcolor": "#E5ECF6",
            "gridcolor": "white",
            "gridwidth": 2,
            "linecolor": "white",
            "showbackground": true,
            "ticks": "",
            "zerolinecolor": "white"
           },
           "yaxis": {
            "backgroundcolor": "#E5ECF6",
            "gridcolor": "white",
            "gridwidth": 2,
            "linecolor": "white",
            "showbackground": true,
            "ticks": "",
            "zerolinecolor": "white"
           },
           "zaxis": {
            "backgroundcolor": "#E5ECF6",
            "gridcolor": "white",
            "gridwidth": 2,
            "linecolor": "white",
            "showbackground": true,
            "ticks": "",
            "zerolinecolor": "white"
           }
          },
          "shapedefaults": {
           "line": {
            "color": "#2a3f5f"
           }
          },
          "ternary": {
           "aaxis": {
            "gridcolor": "white",
            "linecolor": "white",
            "ticks": ""
           },
           "baxis": {
            "gridcolor": "white",
            "linecolor": "white",
            "ticks": ""
           },
           "bgcolor": "#E5ECF6",
           "caxis": {
            "gridcolor": "white",
            "linecolor": "white",
            "ticks": ""
           }
          },
          "title": {
           "x": 0.05
          },
          "xaxis": {
           "automargin": true,
           "gridcolor": "white",
           "linecolor": "white",
           "ticks": "",
           "title": {
            "standoff": 15
           },
           "zerolinecolor": "white",
           "zerolinewidth": 2
          },
          "yaxis": {
           "automargin": true,
           "gridcolor": "white",
           "linecolor": "white",
           "ticks": "",
           "title": {
            "standoff": 15
           },
           "zerolinecolor": "white",
           "zerolinewidth": 2
          }
         }
        },
        "title": {
         "text": "Динамика лайков во времени"
        },
        "xaxis": {
         "anchor": "y",
         "domain": [
          0,
          1
         ],
         "title": {
          "text": "Дата"
         }
        },
        "yaxis": {
         "anchor": "x",
         "domain": [
          0,
          1
         ],
         "title": {
          "text": "Нравится"
         }
        }
       }
      }
     },
     "metadata": {},
     "output_type": "display_data"
    }
   ],
   "source": [
    "fig = px.line(data, x='Дата', y='Нравится', \n",
    "              title='Динамика лайков во времени',\n",
    "              hover_data=['День_недели', 'Месяц'])\n",
    "fig.show()"
   ]
  },
  {
   "cell_type": "markdown",
   "id": "b32e957b",
   "metadata": {},
   "source": [
    "## Корреляционный анализ"
   ]
  },
  {
   "cell_type": "code",
   "execution_count": null,
   "id": "458894b5",
   "metadata": {},
   "outputs": [
    {
     "data": {
      "image/png": "[encoded data removed]",
      "text/plain": [
       "<Figure size 1000x800 with 2 Axes>"
      ]
     },
     "metadata": {},
     "output_type": "display_data"
    },
    {
     "name": "stdout",
     "output_type": "stream",
     "text": [
      "============================================================\n",
      "КОРРЕЛЯЦИОННАЯ МАТРИЦА\n",
      "============================================================\n",
      "             Лайки  День недели  Месяц  День года\n",
      "Лайки        1.000       -0.127  0.026      0.026\n",
      "День недели -0.127        1.000  0.033      0.036\n",
      "Месяц        0.026        0.033  1.000      0.997\n",
      "День года    0.026        0.036  0.997      1.000\n",
      "\n",
      "============================================================\n",
      "ИНТЕРПРЕТАЦИЯ КОРРЕЛЯЦИЙ:\n",
      "============================================================\n",
      "• Лайки - День недели: -0.127 (очень слабая/отсутствует отрицательная корреляция)\n",
      "• Лайки - Месяц: 0.026 (очень слабая/отсутствует положительная корреляция)\n",
      "• Лайки - День года: 0.026 (очень слабая/отсутствует положительная корреляция)\n",
      "• День недели - Месяц: 0.033 (очень слабая/отсутствует положительная корреляция)\n",
      "• День недели - День года: 0.036 (очень слабая/отсутствует положительная корреляция)\n",
      "• Месяц - День года: 0.997 (сильная положительная корреляция)\n"
     ]
    }
   ],
   "source": [
    "# Корреляционный анализ с визуализацией\n",
    "plt.figure(figsize=(10, 8))\n",
    "\n",
    "# Создаем корреляционную матрицу\n",
    "correlation_matrix = data[['Нравится', 'День_недели', 'Месяц', 'День_года']].corr()\n",
    "\n",
    "# Переименовываем столбцы для лучшей читаемости\n",
    "correlation_matrix.columns = ['Лайки', 'День недели', 'Месяц', 'День года']\n",
    "correlation_matrix.index = ['Лайки', 'День недели', 'Месяц', 'День года']\n",
    "\n",
    "# Создаем heatmap\n",
    "mask = np.triu(np.ones_like(correlation_matrix, dtype=bool))  # Маска для верхнего треугольника\n",
    "\n",
    "sns.heatmap(correlation_matrix, \n",
    "            mask=mask,  # Скрываем верхний треугольник (дублирующую информацию)\n",
    "            annot=True, \n",
    "            fmt='.3f', \n",
    "            cmap='coolwarm', \n",
    "            center=0,\n",
    "            square=True,\n",
    "            cbar_kws={'shrink': 0.8, 'label': 'Коэффициент корреляции'},\n",
    "            linewidths=1,\n",
    "            linecolor='white')\n",
    "\n",
    "plt.title('Корреляционная матрица метрик лайков', fontsize=16, fontweight='bold', pad=20)\n",
    "plt.xticks(rotation=45, ha='right')\n",
    "plt.yticks(rotation=0)\n",
    "\n",
    "plt.tight_layout()\n",
    "plt.show()\n",
    "\n",
    "# Выводим числовую матрицу для справки\n",
    "print(\"=\"*60)\n",
    "print(\"КОРРЕЛЯЦИОННАЯ МАТРИЦА\")\n",
    "print(\"=\"*60)\n",
    "print(correlation_matrix.round(3))\n",
    "print(\"\\n\" + \"=\"*60)\n",
    "print(\"ИНТЕРПРЕТАЦИЯ КОРРЕЛЯЦИЙ:\")\n",
    "print(\"=\"*60)\n",
    "\n",
    "# Интерпретация результатов\n",
    "correlation_interpretation = {\n",
    "    'Лайки - День недели': f\"{correlation_matrix.loc['Лайки', 'День недели']:.3f}\",\n",
    "    'Лайки - Месяц': f\"{correlation_matrix.loc['Лайки', 'Месяц']:.3f}\", \n",
    "    'Лайки - День года': f\"{correlation_matrix.loc['Лайки', 'День года']:.3f}\",\n",
    "    'День недели - Месяц': f\"{correlation_matrix.loc['День недели', 'Месяц']:.3f}\",\n",
    "    'День недели - День года': f\"{correlation_matrix.loc['День недели', 'День года']:.3f}\",\n",
    "    'Месяц - День года': f\"{correlation_matrix.loc['Месяц', 'День года']:.3f}\"\n",
    "}\n",
    "\n",
    "for metric, value in correlation_interpretation.items():\n",
    "    corr_value = float(value)\n",
    "    if abs(corr_value) > 0.7:\n",
    "        strength = \"сильная\"\n",
    "    elif abs(corr_value) > 0.5:\n",
    "        strength = \"умеренная\" \n",
    "    elif abs(corr_value) > 0.3:\n",
    "        strength = \"слабая\"\n",
    "    else:\n",
    "        strength = \"очень слабая/отсутствует\"\n",
    "    \n",
    "    direction = \"положительная\" if corr_value > 0 else \"отрицательная\"\n",
    "    \n",
    "    print(f\"• {metric}: {value} ({strength} {direction} корреляция)\")"
   ]
  },
  {
   "cell_type": "markdown",
   "id": "d998bf8e",
   "metadata": {},
   "source": [
    "## Выводы по лучшему времени для публикаций"
   ]
  },
  {
   "cell_type": "code",
   "execution_count": null,
   "id": "f085bbd5",
   "metadata": {},
   "outputs": [
    {
     "name": "stdout",
     "output_type": "stream",
     "text": [
      "РЕКОМЕНДАЦИИ ДЛЯ ПУБЛИКАЦИЙ:\n",
      "Лучшие дни: [2, 0, 4]\n",
      "Лучшие месяцы: [9, 10, 1]\n",
      "\n",
      "Средний охват на пост: 2.3 лайков\n"
     ]
    }
   ],
   "source": [
    "# Рекомендации для публикаций\n",
    "best_days = likes_by_weekday.nlargest(3)\n",
    "best_months = data.groupby('Месяц')['Нравится'].mean().nlargest(3)\n",
    "\n",
    "print(\"РЕКОМЕНДАЦИИ ДЛЯ ПУБЛИКАЦИЙ:\")\n",
    "print(f\"Лучшие дни: {list(best_days.index)}\")\n",
    "print(f\"Лучшие месяцы: {list(best_months.index)}\")\n",
    "\n",
    "# Расчет потенциального охвата\n",
    "avg_engagement = data['Нравится'].mean()\n",
    "print(f\"\\nСредний охват на пост: {avg_engagement:.1f} лайков\")"
   ]
  },
  {
   "cell_type": "code",
   "execution_count": null,
   "id": "2ef1fd90",
   "metadata": {},
   "outputs": [
    {
     "data": {
      "application/vnd.plotly.v1+json": {
       "config": {
        "plotlyServerURL": "https://plot.ly"
       },
       "data": [
        {
         "customdata": {
          "bdata": "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",
          "dtype": "i4",
          "shape": "272, 2"
         },
         "hovertemplate": "Дата=%{x}<br>Нравится=%{y}<br>День_недели=%{customdata[0]}<br>Месяц=%{customdata[1]}<extra></extra>",
         "legendgroup": "",
         "line": {
          "color": "#636efa",
          "dash": "solid"
         },
         "marker": {
          "symbol": "circle"
         },
         "mode": "lines",
         "name": "",
         "orientation": "v",
         "showlegend": false,
         "type": "scatter",
         "x": [
          "2012-04-25T00:00:00.000000000",
          "2013-06-06T00:00:00.000000000",
          "2013-09-25T00:00:00.000000000",
          "2013-10-03T00:00:00.000000000",
          "2014-04-07T00:00:00.000000000",
          "2014-04-08T00:00:00.000000000",
          "2014-06-06T00:00:00.000000000",
          "2014-06-09T00:00:00.000000000",
          "2014-06-22T00:00:00.000000000",
          "2014-07-31T00:00:00.000000000",
          "2014-09-03T00:00:00.000000000",
          "2014-09-22T00:00:00.000000000",
          "2014-09-22T00:00:00.000000000",
          "2014-09-23T00:00:00.000000000",
          "2014-09-24T00:00:00.000000000",
          "2014-09-25T00:00:00.000000000",
          "2014-09-26T00:00:00.000000000",
          "2014-10-07T00:00:00.000000000",
          "2014-10-08T00:00:00.000000000",
          "2014-10-10T00:00:00.000000000",
          "2014-10-11T00:00:00.000000000",
          "2014-10-16T00:00:00.000000000",
          "2014-10-17T00:00:00.000000000",
          "2014-11-04T00:00:00.000000000",
          "2014-11-18T00:00:00.000000000",
          "2014-11-22T00:00:00.000000000",
          "2014-11-27T00:00:00.000000000",
          "2014-12-14T00:00:00.000000000",
          "2015-01-16T00:00:00.000000000",
          "2015-02-06T00:00:00.000000000",
          "2015-02-07T00:00:00.000000000",
          "2015-02-10T00:00:00.000000000",
          "2015-02-17T00:00:00.000000000",
          "2015-02-18T00:00:00.000000000",
          "2015-03-07T00:00:00.000000000",
          "2015-03-11T00:00:00.000000000",
          "2015-03-12T00:00:00.000000000",
          "2015-03-18T00:00:00.000000000",
          "2015-04-06T00:00:00.000000000",
          "2015-04-08T00:00:00.000000000",
          "2015-05-02T00:00:00.000000000",
          "2015-05-04T00:00:00.000000000",
          "2015-05-09T00:00:00.000000000",
          "2015-05-10T00:00:00.000000000",
          "2015-05-11T00:00:00.000000000",
          "2015-07-08T00:00:00.000000000",
          "2015-08-01T00:00:00.000000000",
          "2015-08-08T00:00:00.000000000",
          "2015-08-12T00:00:00.000000000",
          "2015-08-18T00:00:00.000000000",
          "2015-08-21T00:00:00.000000000",
          "2015-08-22T00:00:00.000000000",
          "2015-08-29T00:00:00.000000000",
          "2015-09-01T00:00:00.000000000",
          "2015-09-04T00:00:00.000000000",
          "2015-09-11T00:00:00.000000000",
          "2015-09-20T00:00:00.000000000",
          "2015-09-21T00:00:00.000000000",
          "2015-09-22T00:00:00.000000000",
          "2015-09-23T00:00:00.000000000",
          "2015-09-24T00:00:00.000000000",
          "2015-09-25T00:00:00.000000000",
          "2015-10-05T00:00:00.000000000",
          "2015-10-07T00:00:00.000000000",
          "2015-10-08T00:00:00.000000000",
          "2015-10-25T00:00:00.000000000",
          "2015-11-19T00:00:00.000000000",
          "2015-12-05T00:00:00.000000000",
          "2015-12-13T00:00:00.000000000",
          "2015-12-17T00:00:00.000000000",
          "2015-12-24T00:00:00.000000000",
          "2016-01-03T00:00:00.000000000",
          "2016-01-20T00:00:00.000000000",
          "2016-01-30T00:00:00.000000000",
          "2016-01-31T00:00:00.000000000",
          "2016-02-01T00:00:00.000000000",
          "2016-02-05T00:00:00.000000000",
          "2016-02-16T00:00:00.000000000",
          "2016-02-19T00:00:00.000000000",
          "2016-02-20T00:00:00.000000000",
          "2016-02-21T00:00:00.000000000",
          "2016-02-23T00:00:00.000000000",
          "2016-02-24T00:00:00.000000000",
          "2016-02-26T00:00:00.000000000",
          "2016-02-29T00:00:00.000000000",
          "2016-03-01T00:00:00.000000000",
          "2016-03-02T00:00:00.000000000",
          "2016-03-03T00:00:00.000000000",
          "2016-03-10T00:00:00.000000000",
          "2016-03-12T00:00:00.000000000",
          "2016-03-14T00:00:00.000000000",
          "2016-03-16T00:00:00.000000000",
          "2016-03-17T00:00:00.000000000",
          "2016-03-18T00:00:00.000000000",
          "2016-03-23T00:00:00.000000000",
          "2016-04-05T00:00:00.000000000",
          "2016-04-10T00:00:00.000000000",
          "2016-04-10T00:00:00.000000000",
          "2016-04-14T00:00:00.000000000",
          "2016-04-15T00:00:00.000000000",
          "2016-05-14T00:00:00.000000000",
          "2016-05-26T00:00:00.000000000",
          "2016-05-27T00:00:00.000000000",
          "2016-05-29T00:00:00.000000000",
          "2016-06-07T00:00:00.000000000",
          "2016-07-05T00:00:00.000000000",
          "2016-07-06T00:00:00.000000000",
          "2016-08-14T00:00:00.000000000",
          "2016-08-27T00:00:00.000000000",
          "2016-08-31T00:00:00.000000000",
          "2016-09-01T00:00:00.000000000",
          "2016-09-02T00:00:00.000000000",
          "2016-09-07T00:00:00.000000000",
          "2016-09-10T00:00:00.000000000",
          "2016-09-13T00:00:00.000000000",
          "2016-09-16T00:00:00.000000000",
          "2016-09-18T00:00:00.000000000",
          "2016-09-19T00:00:00.000000000",
          "2016-09-26T00:00:00.000000000",
          "2016-10-11T00:00:00.000000000",
          "2016-10-22T00:00:00.000000000",
          "2016-10-29T00:00:00.000000000",
          "2016-11-02T00:00:00.000000000",
          "2016-11-08T00:00:00.000000000",
          "2016-11-09T00:00:00.000000000",
          "2016-11-12T00:00:00.000000000",
          "2016-11-14T00:00:00.000000000",
          "2016-11-17T00:00:00.000000000",
          "2016-11-19T00:00:00.000000000",
          "2016-11-24T00:00:00.000000000",
          "2016-11-25T00:00:00.000000000",
          "2016-11-30T00:00:00.000000000",
          "2016-12-02T00:00:00.000000000",
          "2016-12-04T00:00:00.000000000",
          "2016-12-06T00:00:00.000000000",
          "2016-12-09T00:00:00.000000000",
          "2016-12-17T00:00:00.000000000",
          "2016-12-19T00:00:00.000000000",
          "2017-01-03T00:00:00.000000000",
          "2017-01-03T00:00:00.000000000",
          "2017-01-26T00:00:00.000000000",
          "2017-02-23T00:00:00.000000000",
          "2017-02-27T00:00:00.000000000",
          "2017-03-02T00:00:00.000000000",
          "2017-03-11T00:00:00.000000000",
          "2017-03-21T00:00:00.000000000",
          "2017-03-23T00:00:00.000000000",
          "2017-03-25T00:00:00.000000000",
          "2017-04-02T00:00:00.000000000",
          "2017-04-04T00:00:00.000000000",
          "2017-05-22T00:00:00.000000000",
          "2017-06-01T00:00:00.000000000",
          "2017-06-16T00:00:00.000000000",
          "2017-06-23T00:00:00.000000000",
          "2017-06-24T00:00:00.000000000",
          "2017-06-26T00:00:00.000000000",
          "2017-07-01T00:00:00.000000000",
          "2017-07-20T00:00:00.000000000",
          "2017-07-27T00:00:00.000000000",
          "2017-07-29T00:00:00.000000000",
          "2017-08-11T00:00:00.000000000",
          "2017-08-21T00:00:00.000000000",
          "2017-09-14T00:00:00.000000000",
          "2017-11-03T00:00:00.000000000",
          "2017-11-05T00:00:00.000000000",
          "2017-12-03T00:00:00.000000000",
          "2017-12-03T00:00:00.000000000",
          "2017-12-05T00:00:00.000000000",
          "2017-12-12T00:00:00.000000000",
          "2017-12-12T00:00:00.000000000",
          "2017-12-14T00:00:00.000000000",
          "2018-01-11T00:00:00.000000000",
          "2018-02-05T00:00:00.000000000",
          "2018-02-13T00:00:00.000000000",
          "2018-02-16T00:00:00.000000000",
          "2018-02-24T00:00:00.000000000",
          "2018-03-03T00:00:00.000000000",
          "2018-03-11T00:00:00.000000000",
          "2018-04-21T00:00:00.000000000",
          "2018-04-24T00:00:00.000000000",
          "2018-05-06T00:00:00.000000000",
          "2018-05-30T00:00:00.000000000",
          "2018-08-22T00:00:00.000000000",
          "2018-09-16T00:00:00.000000000",
          "2018-10-10T00:00:00.000000000",
          "2018-10-13T00:00:00.000000000",
          "2018-12-22T00:00:00.000000000",
          "2019-01-10T00:00:00.000000000",
          "2019-01-24T00:00:00.000000000",
          "2019-02-02T00:00:00.000000000",
          "2019-02-06T00:00:00.000000000",
          "2019-02-14T00:00:00.000000000",
          "2019-03-15T00:00:00.000000000",
          "2019-04-22T00:00:00.000000000",
          "2019-04-23T00:00:00.000000000",
          "2019-05-02T00:00:00.000000000",
          "2019-05-21T00:00:00.000000000",
          "2019-07-25T00:00:00.000000000",
          "2019-08-19T00:00:00.000000000",
          "2019-08-19T00:00:00.000000000",
          "2019-08-20T00:00:00.000000000",
          "2019-08-23T00:00:00.000000000",
          "2019-09-21T00:00:00.000000000",
          "2019-10-10T00:00:00.000000000",
          "2019-10-19T00:00:00.000000000",
          "2019-11-13T00:00:00.000000000",
          "2019-11-19T00:00:00.000000000",
          "2019-11-29T00:00:00.000000000",
          "2019-12-02T00:00:00.000000000",
          "2020-01-01T00:00:00.000000000",
          "2020-01-01T00:00:00.000000000",
          "2020-01-02T00:00:00.000000000",
          "2020-01-05T00:00:00.000000000",
          "2020-01-14T00:00:00.000000000",
          "2020-01-24T00:00:00.000000000",
          "2020-01-30T00:00:00.000000000",
          "2020-02-01T00:00:00.000000000",
          "2020-02-04T00:00:00.000000000",
          "2020-02-09T00:00:00.000000000",
          "2020-02-15T00:00:00.000000000",
          "2020-02-16T00:00:00.000000000",
          "2020-02-27T00:00:00.000000000",
          "2020-03-10T00:00:00.000000000",
          "2020-03-17T00:00:00.000000000",
          "2020-03-22T00:00:00.000000000",
          "2020-05-15T00:00:00.000000000",
          "2020-06-01T00:00:00.000000000",
          "2020-06-14T00:00:00.000000000",
          "2020-07-09T00:00:00.000000000",
          "2020-07-22T00:00:00.000000000",
          "2020-08-20T00:00:00.000000000",
          "2020-09-09T00:00:00.000000000",
          "2020-09-25T00:00:00.000000000",
          "2020-10-09T00:00:00.000000000",
          "2020-10-10T00:00:00.000000000",
          "2020-10-17T00:00:00.000000000",
          "2020-10-18T00:00:00.000000000",
          "2020-10-20T00:00:00.000000000",
          "2020-11-11T00:00:00.000000000",
          "2020-12-05T00:00:00.000000000",
          "2020-12-11T00:00:00.000000000",
          "2021-01-03T00:00:00.000000000",
          "2021-01-04T00:00:00.000000000",
          "2021-01-06T00:00:00.000000000",
          "2021-01-24T00:00:00.000000000",
          "2021-02-19T00:00:00.000000000",
          "2021-03-04T00:00:00.000000000",
          "2021-03-08T00:00:00.000000000",
          "2021-03-25T00:00:00.000000000",
          "2021-03-31T00:00:00.000000000",
          "2021-04-01T00:00:00.000000000",
          "2021-04-29T00:00:00.000000000",
          "2021-05-16T00:00:00.000000000",
          "2021-06-08T00:00:00.000000000",
          "2021-06-15T00:00:00.000000000",
          "2021-09-15T00:00:00.000000000",
          "2021-09-23T00:00:00.000000000",
          "2021-09-25T00:00:00.000000000",
          "2021-10-02T00:00:00.000000000",
          "2021-10-11T00:00:00.000000000",
          "2022-09-25T00:00:00.000000000",
          "2022-11-12T00:00:00.000000000",
          "2022-12-13T00:00:00.000000000",
          "2022-12-14T00:00:00.000000000",
          "2023-03-28T00:00:00.000000000",
          "2023-05-20T00:00:00.000000000",
          "2023-05-28T00:00:00.000000000",
          "2023-07-28T00:00:00.000000000",
          "2023-09-02T00:00:00.000000000",
          "2024-08-09T00:00:00.000000000",
          "2024-11-22T00:00:00.000000000",
          "2025-08-08T00:00:00.000000000"
         ],
         "xaxis": "x",
         "y": {
          "bdata": "AQIBAgMCAwMBAQEBDQ8VDAwDJwIBAwECBAEFAQYBAgEYAQEBAwIBAgICAQYDAQEBAQEBAQEDAQEBAQEBAQEBAQEBAgEBAQYBAQEDAQEBAQECAwECAQEBAQYCAQIBBQEBAQEBAQEBAgEBAQEBAgIBAQIBAwIBAgICAQEBAQEBAQECBAIBAQEEAQEBAQEDAQEBAQEBAQEBAQEBCQIBAQEBAQEBAQQCAQMBAQECAQIBAQIBAQEBAQIBAQEBAQEBAwEBAQ8BAQIBBgcBAQECAQEBAQEJGAIBAQEBAgEDAgEBAQEBAQEBAQECCwEQAQIBAQEBAQQBAwEBAQEDAQECAQEBAQIDAQEBAQEHAQEBAgIBAQI=",
          "dtype": "i1"
         },
         "yaxis": "y"
        }
       ],
       "layout": {
        "legend": {
         "tracegroupgap": 0
        },
        "template": {
         "data": {
          "bar": [
           {
            "error_x": {
             "color": "#2a3f5f"
            },
            "error_y": {
             "color": "#2a3f5f"
            },
            "marker": {
             "line": {
              "color": "#E5ECF6",
              "width": 0.5
             },
             "pattern": {
              "fillmode": "overlay",
              "size": 10,
              "solidity": 0.2
             }
            },
            "type": "bar"
           }
          ],
          "barpolar": [
           {
            "marker": {
             "line": {
              "color": "#E5ECF6",
              "width": 0.5
             },
             "pattern": {
              "fillmode": "overlay",
              "size": 10,
              "solidity": 0.2
             }
            },
            "type": "barpolar"
           }
          ],
          "carpet": [
           {
            "aaxis": {
             "endlinecolor": "#2a3f5f",
             "gridcolor": "white",
             "linecolor": "white",
             "minorgridcolor": "white",
             "startlinecolor": "#2a3f5f"
            },
            "baxis": {
             "endlinecolor": "#2a3f5f",
             "gridcolor": "white",
             "linecolor": "white",
             "minorgridcolor": "white",
             "startlinecolor": "#2a3f5f"
            },
            "type": "carpet"
           }
          ],
          "choropleth": [
           {
            "colorbar": {
             "outlinewidth": 0,
             "ticks": ""
            },
            "type": "choropleth"
           }
          ],
          "contour": [
           {
            "colorbar": {
             "outlinewidth": 0,
             "ticks": ""
            },
            "colorscale": [
             [
              0,
              "#0d0887"
             ],
             [
              0.1111111111111111,
              "#46039f"
             ],
             [
              0.2222222222222222,
              "#7201a8"
             ],
             [
              0.3333333333333333,
              "#9c179e"
             ],
             [
              0.4444444444444444,
              "#bd3786"
             ],
             [
              0.5555555555555556,
              "#d8576b"
             ],
             [
              0.6666666666666666,
              "#ed7953"
             ],
             [
              0.7777777777777778,
              "#fb9f3a"
             ],
             [
              0.8888888888888888,
              "#fdca26"
             ],
             [
              1,
              "#f0f921"
             ]
            ],
            "type": "contour"
           }
          ],
          "contourcarpet": [
           {
            "colorbar": {
             "outlinewidth": 0,
             "ticks": ""
            },
            "type": "contourcarpet"
           }
          ],
          "heatmap": [
           {
            "colorbar": {
             "outlinewidth": 0,
             "ticks": ""
            },
            "colorscale": [
             [
              0,
              "#0d0887"
             ],
             [
              0.1111111111111111,
              "#46039f"
             ],
             [
              0.2222222222222222,
              "#7201a8"
             ],
             [
              0.3333333333333333,
              "#9c179e"
             ],
             [
              0.4444444444444444,
              "#bd3786"
             ],
             [
              0.5555555555555556,
              "#d8576b"
             ],
             [
              0.6666666666666666,
              "#ed7953"
             ],
             [
              0.7777777777777778,
              "#fb9f3a"
             ],
             [
              0.8888888888888888,
              "#fdca26"
             ],
             [
              1,
              "#f0f921"
             ]
            ],
            "type": "heatmap"
           }
          ],
          "histogram": [
           {
            "marker": {
             "pattern": {
              "fillmode": "overlay",
              "size": 10,
              "solidity": 0.2
             }
            },
            "type": "histogram"
           }
          ],
          "histogram2d": [
           {
            "colorbar": {
             "outlinewidth": 0,
             "ticks": ""
            },
            "colorscale": [
             [
              0,
              "#0d0887"
             ],
             [
              0.1111111111111111,
              "#46039f"
             ],
             [
              0.2222222222222222,
              "#7201a8"
             ],
             [
              0.3333333333333333,
              "#9c179e"
             ],
             [
              0.4444444444444444,
              "#bd3786"
             ],
             [
              0.5555555555555556,
              "#d8576b"
             ],
             [
              0.6666666666666666,
              "#ed7953"
             ],
             [
              0.7777777777777778,
              "#fb9f3a"
             ],
             [
              0.8888888888888888,
              "#fdca26"
             ],
             [
              1,
              "#f0f921"
             ]
            ],
            "type": "histogram2d"
           }
          ],
          "histogram2dcontour": [
           {
            "colorbar": {
             "outlinewidth": 0,
             "ticks": ""
            },
            "colorscale": [
             [
              0,
              "#0d0887"
             ],
             [
              0.1111111111111111,
              "#46039f"
             ],
             [
              0.2222222222222222,
              "#7201a8"
             ],
             [
              0.3333333333333333,
              "#9c179e"
             ],
             [
              0.4444444444444444,
              "#bd3786"
             ],
             [
              0.5555555555555556,
              "#d8576b"
             ],
             [
              0.6666666666666666,
              "#ed7953"
             ],
             [
              0.7777777777777778,
              "#fb9f3a"
             ],
             [
              0.8888888888888888,
              "#fdca26"
             ],
             [
              1,
              "#f0f921"
             ]
            ],
            "type": "histogram2dcontour"
           }
          ],
          "mesh3d": [
           {
            "colorbar": {
             "outlinewidth": 0,
             "ticks": ""
            },
            "type": "mesh3d"
           }
          ],
          "parcoords": [
           {
            "line": {
             "colorbar": {
              "outlinewidth": 0,
              "ticks": ""
             }
            },
            "type": "parcoords"
           }
          ],
          "pie": [
           {
            "automargin": true,
            "type": "pie"
           }
          ],
          "scatter": [
           {
            "fillpattern": {
             "fillmode": "overlay",
             "size": 10,
             "solidity": 0.2
            },
            "type": "scatter"
           }
          ],
          "scatter3d": [
           {
            "line": {
             "colorbar": {
              "outlinewidth": 0,
              "ticks": ""
             }
            },
            "marker": {
             "colorbar": {
              "outlinewidth": 0,
              "ticks": ""
             }
            },
            "type": "scatter3d"
           }
          ],
          "scattercarpet": [
           {
            "marker": {
             "colorbar": {
              "outlinewidth": 0,
              "ticks": ""
             }
            },
            "type": "scattercarpet"
           }
          ],
          "scattergeo": [
           {
            "marker": {
             "colorbar": {
              "outlinewidth": 0,
              "ticks": ""
             }
            },
            "type": "scattergeo"
           }
          ],
          "scattergl": [
           {
            "marker": {
             "colorbar": {
              "outlinewidth": 0,
              "ticks": ""
             }
            },
            "type": "scattergl"
           }
          ],
          "scattermap": [
           {
            "marker": {
             "colorbar": {
              "outlinewidth": 0,
              "ticks": ""
             }
            },
            "type": "scattermap"
           }
          ],
          "scattermapbox": [
           {
            "marker": {
             "colorbar": {
              "outlinewidth": 0,
              "ticks": ""
             }
            },
            "type": "scattermapbox"
           }
          ],
          "scatterpolar": [
           {
            "marker": {
             "colorbar": {
              "outlinewidth": 0,
              "ticks": ""
             }
            },
            "type": "scatterpolar"
           }
          ],
          "scatterpolargl": [
           {
            "marker": {
             "colorbar": {
              "outlinewidth": 0,
              "ticks": ""
             }
            },
            "type": "scatterpolargl"
           }
          ],
          "scatterternary": [
           {
            "marker": {
             "colorbar": {
              "outlinewidth": 0,
              "ticks": ""
             }
            },
            "type": "scatterternary"
           }
          ],
          "surface": [
           {
            "colorbar": {
             "outlinewidth": 0,
             "ticks": ""
            },
            "colorscale": [
             [
              0,
              "#0d0887"
             ],
             [
              0.1111111111111111,
              "#46039f"
             ],
             [
              0.2222222222222222,
              "#7201a8"
             ],
             [
              0.3333333333333333,
              "#9c179e"
             ],
             [
              0.4444444444444444,
              "#bd3786"
             ],
             [
              0.5555555555555556,
              "#d8576b"
             ],
             [
              0.6666666666666666,
              "#ed7953"
             ],
             [
              0.7777777777777778,
              "#fb9f3a"
             ],
             [
              0.8888888888888888,
              "#fdca26"
             ],
             [
              1,
              "#f0f921"
             ]
            ],
            "type": "surface"
           }
          ],
          "table": [
           {
            "cells": {
             "fill": {
              "color": "#EBF0F8"
             },
             "line": {
              "color": "white"
             }
            },
            "header": {
             "fill": {
              "color": "#C8D4E3"
             },
             "line": {
              "color": "white"
             }
            },
            "type": "table"
           }
          ]
         },
         "layout": {
          "annotationdefaults": {
           "arrowcolor": "#2a3f5f",
           "arrowhead": 0,
           "arrowwidth": 1
          },
          "autotypenumbers": "strict",
          "coloraxis": {
           "colorbar": {
            "outlinewidth": 0,
            "ticks": ""
           }
          },
          "colorscale": {
           "diverging": [
            [
             0,
             "#8e0152"
            ],
            [
             0.1,
             "#c51b7d"
            ],
            [
             0.2,
             "#de77ae"
            ],
            [
             0.3,
             "#f1b6da"
            ],
            [
             0.4,
             "#fde0ef"
            ],
            [
             0.5,
             "#f7f7f7"
            ],
            [
             0.6,
             "#e6f5d0"
            ],
            [
             0.7,
             "#b8e186"
            ],
            [
             0.8,
             "#7fbc41"
            ],
            [
             0.9,
             "#4d9221"
            ],
            [
             1,
             "#276419"
            ]
           ],
           "sequential": [
            [
             0,
             "#0d0887"
            ],
            [
             0.1111111111111111,
             "#46039f"
            ],
            [
             0.2222222222222222,
             "#7201a8"
            ],
            [
             0.3333333333333333,
             "#9c179e"
            ],
            [
             0.4444444444444444,
             "#bd3786"
            ],
            [
             0.5555555555555556,
             "#d8576b"
            ],
            [
             0.6666666666666666,
             "#ed7953"
            ],
            [
             0.7777777777777778,
             "#fb9f3a"
            ],
            [
             0.8888888888888888,
             "#fdca26"
            ],
            [
             1,
             "#f0f921"
            ]
           ],
           "sequentialminus": [
            [
             0,
             "#0d0887"
            ],
            [
             0.1111111111111111,
             "#46039f"
            ],
            [
             0.2222222222222222,
             "#7201a8"
            ],
            [
             0.3333333333333333,
             "#9c179e"
            ],
            [
             0.4444444444444444,
             "#bd3786"
            ],
            [
             0.5555555555555556,
             "#d8576b"
            ],
            [
             0.6666666666666666,
             "#ed7953"
            ],
            [
             0.7777777777777778,
             "#fb9f3a"
            ],
            [
             0.8888888888888888,
             "#fdca26"
            ],
            [
             1,
             "#f0f921"
            ]
           ]
          },
          "colorway": [
           "#636efa",
           "#EF553B",
           "#00cc96",
           "#ab63fa",
           "#FFA15A",
           "#19d3f3",
           "#FF6692",
           "#B6E880",
           "#FF97FF",
           "#FECB52"
          ],
          "font": {
           "color": "#2a3f5f"
          },
          "geo": {
           "bgcolor": "white",
           "lakecolor": "white",
           "landcolor": "#E5ECF6",
           "showlakes": true,
           "showland": true,
           "subunitcolor": "white"
          },
          "hoverlabel": {
           "align": "left"
          },
          "hovermode": "closest",
          "mapbox": {
           "style": "light"
          },
          "paper_bgcolor": "white",
          "plot_bgcolor": "#E5ECF6",
          "polar": {
           "angularaxis": {
            "gridcolor": "white",
            "linecolor": "white",
            "ticks": ""
           },
           "bgcolor": "#E5ECF6",
           "radialaxis": {
            "gridcolor": "white",
            "linecolor": "white",
            "ticks": ""
           }
          },
          "scene": {
           "xaxis": {
            "backgroundcolor": "#E5ECF6",
            "gridcolor": "white",
            "gridwidth": 2,
            "linecolor": "white",
            "showbackground": true,
            "ticks": "",
            "zerolinecolor": "white"
           },
           "yaxis": {
            "backgroundcolor": "#E5ECF6",
            "gridcolor": "white",
            "gridwidth": 2,
            "linecolor": "white",
            "showbackground": true,
            "ticks": "",
            "zerolinecolor": "white"
           },
           "zaxis": {
            "backgroundcolor": "#E5ECF6",
            "gridcolor": "white",
            "gridwidth": 2,
            "linecolor": "white",
            "showbackground": true,
            "ticks": "",
            "zerolinecolor": "white"
           }
          },
          "shapedefaults": {
           "line": {
            "color": "#2a3f5f"
           }
          },
          "ternary": {
           "aaxis": {
            "gridcolor": "white",
            "linecolor": "white",
            "ticks": ""
           },
           "baxis": {
            "gridcolor": "white",
            "linecolor": "white",
            "ticks": ""
           },
           "bgcolor": "#E5ECF6",
           "caxis": {
            "gridcolor": "white",
            "linecolor": "white",
            "ticks": ""
           }
          },
          "title": {
           "x": 0.05
          },
          "xaxis": {
           "automargin": true,
           "gridcolor": "white",
           "linecolor": "white",
           "ticks": "",
           "title": {
            "standoff": 15
           },
           "zerolinecolor": "white",
           "zerolinewidth": 2
          },
          "yaxis": {
           "automargin": true,
           "gridcolor": "white",
           "linecolor": "white",
           "ticks": "",
           "title": {
            "standoff": 15
           },
           "zerolinecolor": "white",
           "zerolinewidth": 2
          }
         }
        },
        "title": {
         "text": "Динамика лайков во времени"
        },
        "xaxis": {
         "anchor": "y",
         "domain": [
          0,
          1
         ],
         "title": {
          "text": "Дата"
         }
        },
        "yaxis": {
         "anchor": "x",
         "domain": [
          0,
          1
         ],
         "title": {
          "text": "Нравится"
         }
        }
       }
      }
     },
     "metadata": {},
     "output_type": "display_data"
    }
   ],
   "source": [
    "fig = px.line(data, x='Дата', y='Нравится', \n",
    "              title='Динамика лайков во времени',\n",
    "              hover_data=['День_недели', 'Месяц'])\n",
    "fig.show()"
   ]
  }
 ],
 "metadata": {
  "kernelspec": {
   "display_name": "myenv",
   "language": "python",
   "name": "python3"
  },
  "language_info": {
   "codemirror_mode": {
    "name": "ipython",
    "version": 3
   },
   "file_extension": ".py",
   "mimetype": "text/x-python",
   "name": "python",
   "nbconvert_exporter": "python",
   "pygments_lexer": "ipython3",
   "version": "3.13.5"
  }
 },
 "nbformat": 4,
 "nbformat_minor": 5
}
